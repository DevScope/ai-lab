{
 "cells": [
  {
   "cell_type": "markdown",
   "metadata": {},
   "source": [
    "# Check Imports\n"
   ]
  },
  {
   "cell_type": "code",
   "execution_count": 2,
   "metadata": {
    "ExecuteTime": {
     "end_time": "2018-08-16T22:43:47.057201Z",
     "start_time": "2018-08-16T22:43:40.410206Z"
    },
    "collapsed": true
   },
   "outputs": [],
   "source": [
    "import dash\n",
    "from dash.dependencies import Input, Output, State,Event\n",
    "import dash_core_components as dcc\n",
    "import dash_html_components as html\n",
    "import dash_table_experiments as dt\n",
    "import json\n",
    "import pandas as pd\n",
    "import numpy as np\n",
    "import plotly\n",
    "from IPython import display\n",
    "import os"
   ]
  },
  {
   "cell_type": "markdown",
   "metadata": {},
   "source": [
    "\n",
    "# Show Dash App Utility by Kevin Mader"
   ]
  },
  {
   "cell_type": "code",
   "execution_count": 3,
   "metadata": {
    "ExecuteTime": {
     "end_time": "2018-08-16T22:43:47.076206Z",
     "start_time": "2018-08-16T22:43:47.061207Z"
    },
    "collapsed": true
   },
   "outputs": [],
   "source": [
    "# From awesome dash intro repo by Kevin Mader\n",
    "# A quick intro to Dash made for the PyData event in Zurich\n",
    "# https://github.com/4QuantOSS/DashIntro \n",
    "\n",
    "# Can use Jupyter nbserverproxy extension (available at /.../proxy/<port>)\n",
    "\n",
    "def show_app(app, port = 10001, \n",
    "             width = 700, \n",
    "             height = 350, \n",
    "             offline = False,\n",
    "            in_binder = None):\n",
    "    in_binder ='JUPYTERHUB_SERVICE_PREFIX' in os.environ if in_binder is None else in_binder\n",
    "    if in_binder:\n",
    "        base_prefix = '{}proxy/{}/'.format(os.environ['JUPYTERHUB_SERVICE_PREFIX'], port)\n",
    "        url = 'https://hub.mybinder.org{}'.format(base_prefix)\n",
    "        app.config.requests_pathname_prefix = base_prefix\n",
    "    else:\n",
    "        url = 'http://localhost:%d' % port\n",
    "    iframe = '<a href=\"{url}\" target=\"_new\">Open in new window</a><hr><iframe src=\"{url}\" width={width} height={height}></iframe>'.format(url = url, \n",
    "                                                                                  width = width, \n",
    "                                                                                  height = height)\n",
    "\n",
    "    iframe = '<a href=\"{url}\" target=\"_new\">Open in new window</a><hr>'.format(url = url, \n",
    "                                                                                  width = width, \n",
    "                                                                                  height = height)\n",
    "\n",
    "    display.display_html(iframe, raw = True)\n",
    "    if offline:\n",
    "        app.css.config.serve_locally = True\n",
    "        app.scripts.config.serve_locally = True\n",
    "        \n",
    "    return app.run_server(debug=False, # needs to be false in Jupyter\n",
    "                          host = '0.0.0.0',\n",
    "                          port=port)"
   ]
  },
  {
   "cell_type": "markdown",
   "metadata": {},
   "source": [
    "# Dash App"
   ]
  },
  {
   "cell_type": "code",
   "execution_count": null,
   "metadata": {
    "ExecuteTime": {
     "start_time": "2018-08-16T22:43:40.420Z"
    },
    "collapsed": true
   },
   "outputs": [],
   "source": [
    "#From https://github.com/plotly/dash-table-experiments/blob/master/usage-callback.py\n",
    "\n",
    "import dash\n",
    "from dash.dependencies import Input, Output\n",
    "import dash_core_components as dcc\n",
    "import dash_html_components as html\n",
    "import dash_table_experiments as dt\n",
    "import pandas as pd\n",
    "\n",
    "app = dash.Dash()\n",
    "\n",
    "# app.scripts.config.serve_locally = True\n",
    "# app.css.config.serve_locally = True\n",
    "\n",
    "DF_GAPMINDER = pd.read_csv(\n",
    "    'https://raw.githubusercontent.com/plotly/datasets/master/gapminderDataFiveYear.csv'\n",
    ")\n",
    "DF_GAPMINDER = DF_GAPMINDER[DF_GAPMINDER['year'] == 2007]\n",
    "DF_GAPMINDER.loc[0:20]\n",
    "\n",
    "DF_SIMPLE = pd.DataFrame({\n",
    "    'x': ['A', 'B', 'C', 'D', 'E', 'F'],\n",
    "    'y': [4, 3, 1, 2, 3, 6],\n",
    "    'z': ['a', 'b', 'c', 'a', 'b', 'c']\n",
    "})\n",
    "\n",
    "\n",
    "dataframes = {'DF_GAPMINDER': DF_GAPMINDER,\n",
    "              'DF_SIMPLE': DF_SIMPLE}\n",
    "\n",
    "\n",
    "def get_data_object(user_selection):\n",
    "    \"\"\"\n",
    "    For user selections, return the relevant in-memory data frame.\n",
    "    \"\"\"\n",
    "    return dataframes[user_selection]\n",
    "\n",
    "\n",
    "app.layout = html.Div([\n",
    "    html.H4('DataTable'),\n",
    "    html.Label('Report type:', style={'font-weight': 'bold'}),\n",
    "    dcc.Dropdown(\n",
    "        id='field-dropdown',\n",
    "        options=[{'label': df, 'value': df} for df in dataframes],\n",
    "        value='DF_GAPMINDER',\n",
    "        clearable=False\n",
    "    ),\n",
    "    dt.DataTable(\n",
    "        # Initialise the rows\n",
    "        rows=[{}],\n",
    "        row_selectable=True,\n",
    "        filterable=True,\n",
    "        sortable=True,\n",
    "        selected_row_indices=[],\n",
    "        id='table'\n",
    "    ),\n",
    "    html.Div(id='selected-indexes')\n",
    "], className='container')\n",
    "\n",
    "\n",
    "@app.callback(Output('table', 'rows'), [Input('field-dropdown', 'value')])\n",
    "def update_table(user_selection):\n",
    "    \"\"\"\n",
    "    For user selections, return the relevant table\n",
    "    \"\"\"\n",
    "    df = get_data_object(user_selection)\n",
    "    return df.to_dict('records')\n",
    "\n",
    "\n",
    "app.css.append_css({\n",
    "    'external_url': 'https://codepen.io/chriddyp/pen/bWLwgP.css'\n",
    "})\n",
    "\n"
   ]
  },
  {
   "cell_type": "markdown",
   "metadata": {},
   "source": [
    "# Start Dash"
   ]
  },
  {
   "cell_type": "code",
   "execution_count": null,
   "metadata": {
    "ExecuteTime": {
     "start_time": "2018-08-16T22:43:40.426Z"
    }
   },
   "outputs": [
    {
     "data": {
      "text/html": [
       "<a href=\"http://localhost:10001\" target=\"_new\">Open in new window</a><hr>"
      ]
     },
     "metadata": {},
     "output_type": "display_data"
    },
    {
     "name": "stderr",
     "output_type": "stream",
     "text": [
      " * Running on http://0.0.0.0:10001/ (Press CTRL+C to quit)\n",
      "127.0.0.1 - - [16/Aug/2018 23:43:54] \"GET / HTTP/1.1\" 200 -\n",
      "127.0.0.1 - - [16/Aug/2018 23:43:56] \"GET /_dash-layout HTTP/1.1\" 200 -\n",
      "127.0.0.1 - - [16/Aug/2018 23:43:56] \"GET /_dash-dependencies HTTP/1.1\" 200 -\n",
      "127.0.0.1 - - [16/Aug/2018 23:43:56] \"POST /_dash-update-component HTTP/1.1\" 200 -\n",
      "127.0.0.1 - - [16/Aug/2018 23:43:57] \"GET /favicon.ico HTTP/1.1\" 200 -\n"
     ]
    }
   ],
   "source": [
    "# use <esc> i+i on Jupyter to quick interrupt & get control back to jupyter\n",
    "show_app(app)"
   ]
  }
 ],
 "metadata": {
  "hide_input": false,
  "kernelspec": {
   "display_name": "Python 3",
   "language": "python",
   "name": "python3"
  },
  "language_info": {
   "codemirror_mode": {
    "name": "ipython",
    "version": 3
   },
   "file_extension": ".py",
   "mimetype": "text/x-python",
   "name": "python",
   "nbconvert_exporter": "python",
   "pygments_lexer": "ipython3",
   "version": "3.6.3"
  },
  "toc": {
   "base_numbering": 1,
   "nav_menu": {},
   "number_sections": true,
   "sideBar": true,
   "skip_h1_title": false,
   "title_cell": "Table of Contents",
   "title_sidebar": "Contents",
   "toc_cell": false,
   "toc_position": {
    "height": "calc(100% - 180px)",
    "left": "10px",
    "top": "150px",
    "width": "273px"
   },
   "toc_section_display": true,
   "toc_window_display": true
  }
 },
 "nbformat": 4,
 "nbformat_minor": 2
}
