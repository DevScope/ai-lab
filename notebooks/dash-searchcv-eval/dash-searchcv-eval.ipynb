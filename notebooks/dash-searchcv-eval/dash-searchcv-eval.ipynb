{
 "cells": [
  {
   "cell_type": "code",
   "execution_count": null,
   "metadata": {
    "ExecuteTime": {
     "end_time": "2019-12-16T15:48:10.671651Z",
     "start_time": "2019-12-16T15:48:10.558608Z"
    }
   },
   "outputs": [],
   "source": [
    "%load_ext autoreload\n",
    "%autoreload 2"
   ]
  },
  {
   "cell_type": "markdown",
   "metadata": {},
   "source": [
    "# AI Lab tools/utils"
   ]
  },
  {
   "cell_type": "code",
   "execution_count": null,
   "metadata": {
    "ExecuteTime": {
     "end_time": "2019-12-16T15:48:10.972651Z",
     "start_time": "2019-12-16T15:48:10.921650Z"
    }
   },
   "outputs": [],
   "source": [
    "import ailab as lab"
   ]
  },
  {
   "cell_type": "markdown",
   "metadata": {},
   "source": [
    "# Read Data"
   ]
  },
  {
   "cell_type": "code",
   "execution_count": null,
   "metadata": {
    "ExecuteTime": {
     "end_time": "2018-08-20T22:59:59.316602Z",
     "start_time": "2018-08-20T22:59:36.323475Z"
    }
   },
   "outputs": [],
   "source": [
    "import pandas as pd\n",
    "\n",
    "feature_names=[\"Age\", \"Workclass\", \"Final Weight\", \"Education\", \"Education-Num\", \"Marital Status\",\n",
    "               \"Occupation\", \"Relationship\", \"Race\", \"Sex\", \"Capital Gain\", \"Capital Loss\",\n",
    "               \"Hours per week\", \"Country\", \"Income\"]\n",
    "\n",
    "df_train=pd.read_csv(\"http://archive.ics.uci.edu/ml/machine-learning-databases/adult/adult.data\",\n",
    "                     names=feature_names)\n",
    "\n",
    "df_test=pd.read_csv(\"http://archive.ics.uci.edu/ml/machine-learning-databases/adult/adult.test\",\n",
    "                    skiprows =1,\n",
    "                    names=feature_names)\n",
    "\n"
   ]
  },
  {
   "cell_type": "markdown",
   "metadata": {},
   "source": [
    "# Data prep & problem definition"
   ]
  },
  {
   "cell_type": "code",
   "execution_count": null,
   "metadata": {
    "ExecuteTime": {
     "end_time": "2018-08-20T22:59:59.367604Z",
     "start_time": "2018-08-20T22:59:59.319605Z"
    }
   },
   "outputs": [],
   "source": [
    "SAMPLE_ROWS=5000\n",
    "\n",
    "def df_prep(df):\n",
    "    df=df.copy().sample(SAMPLE_ROWS)\n",
    "    LABEL=\"Income\"\n",
    "    y_train=df[LABEL].replace([\" <=50K\",\" <=50K.\",\" >50K\",\" >50K.\"],[0,0,1,1])\n",
    "    df_X=df.drop(LABEL, axis=1)\n",
    "    return df_X,y_train\n",
    "\n",
    "df_X_train,y_train=df_prep(df_train)\n",
    "df_X_test,y_test=df_prep(df_test)"
   ]
  },
  {
   "cell_type": "markdown",
   "metadata": {},
   "source": [
    "# Very basic feature/classifier pipeline"
   ]
  },
  {
   "cell_type": "code",
   "execution_count": null,
   "metadata": {
    "ExecuteTime": {
     "end_time": "2018-08-20T22:59:59.444608Z",
     "start_time": "2018-08-20T22:59:59.371610Z"
    }
   },
   "outputs": [],
   "source": [
    "import numpy as np\n",
    "from sklearn_pandas import gen_features\n",
    "from sklearn_pandas import DataFrameMapper\n",
    "import sklearn.preprocessing as preprocessing\n",
    "\n",
    "nums=[ ([c],preprocessing.Imputer()) for c in df_X_train.select_dtypes([np.number])]\n",
    "cats=[ ([c],preprocessing.LabelBinarizer()) for c in df_X_train.select_dtypes([\"object\"])]\n",
    "\n",
    "feature_mapper=DataFrameMapper(nums+cats,df_out=True)\n",
    "feature_mapper"
   ]
  },
  {
   "cell_type": "code",
   "execution_count": null,
   "metadata": {
    "ExecuteTime": {
     "end_time": "2018-08-21T00:05:29.106681Z",
     "start_time": "2018-08-21T00:05:29.095672Z"
    }
   },
   "outputs": [],
   "source": [
    "from sklearn.pipeline import Pipeline\n",
    "from scipy.stats import randint as sp_randint\n",
    "from sklearn.ensemble import RandomForestClassifier\n",
    "\n",
    "param_dist = {\n",
    "              # Note n_estimators probably not a true hyperparameter, \n",
    "              # in general more is better (aside performance/diminishing returns)\n",
    "              \"classifier__n_estimators\": [10,20],\n",
    "              \"classifier__max_features\": ['auto', 'sqrt', 'log2'],\n",
    "              \"classifier__max_depth\": [1,8],\n",
    "              \"classifier__min_samples_leaf\": [1,8],\n",
    "              \"classifier__bootstrap\": [True,False],\n",
    "              \"classifier__n_jobs\":[-1],\n",
    "              \"classifier__criterion\" :['gini', 'entropy']\n",
    "             }\n",
    "\n",
    "classifier = RandomForestClassifier(random_state=42)\n",
    "\n",
    "pipeline=Pipeline([('featurize', feature_mapper),\n",
    "                   ('classifier',classifier)])"
   ]
  },
  {
   "cell_type": "code",
   "execution_count": null,
   "metadata": {
    "ExecuteTime": {
     "end_time": "2018-08-21T00:05:35.568710Z",
     "start_time": "2018-08-21T00:05:31.379717Z"
    }
   },
   "outputs": [],
   "source": [
    "from sklearn.model_selection import GridSearchCV\n",
    "\n",
    "# Quick grid search\n",
    "CV=3\n",
    "\n",
    "search_cv = GridSearchCV(pipeline, param_grid=param_dist,\n",
    "                                   n_jobs=1,\n",
    "                                   scoring=\"roc_auc\",\n",
    "                                   error_score=0,cv=CV,verbose=5,\n",
    "                                   \n",
    "                                   #will not be default for sklearn .021\n",
    "                                   return_train_score=True)\n",
    "\n",
    "search_cv.fit(df_X_train,y_train)\n",
    "\n",
    "clf=search_cv.best_estimator_\n",
    "clf"
   ]
  },
  {
   "cell_type": "markdown",
   "metadata": {},
   "source": [
    "# Prepare dataframe for Dash"
   ]
  },
  {
   "cell_type": "code",
   "execution_count": null,
   "metadata": {
    "ExecuteTime": {
     "end_time": "2018-08-20T23:54:17.477829Z",
     "start_time": "2018-08-20T23:54:17.340830Z"
    }
   },
   "outputs": [],
   "source": [
    "cv_results_df=pd.DataFrame(search_cv.cv_results_).sort_values(by='rank_test_score')\n",
    "cv_results_df[\"dif_test_train\"]=cv_results_df.mean_train_score-cv_results_df.mean_test_score\n",
    "\n",
    "# drop param list column, doesnt work in dash, not needed for now\n",
    "cv_results_df.drop(\"params\",axis=1,inplace=True)\n",
    "\n",
    "cv_results_df\n"
   ]
  },
  {
   "cell_type": "markdown",
   "metadata": {},
   "source": [
    "# Dash "
   ]
  },
  {
   "cell_type": "code",
   "execution_count": null,
   "metadata": {
    "ExecuteTime": {
     "end_time": "2018-08-20T23:54:19.886962Z",
     "start_time": "2018-08-20T23:54:19.474581Z"
    }
   },
   "outputs": [],
   "source": [
    "import sklearn.metrics as metrics\n",
    "import plotly.graph_objs as go\n",
    "import seaborn as sns\n",
    "import matplotlib.pyplot as plt\n",
    "\n",
    "def serve_param_figure(df,col,metric_1,metric_2):\n",
    "  \n",
    "    split_col=\"\"\n",
    "    fig=plt.figure(figsize=(8,6))\n",
    "    sns.violinplot(x=col, y=metric_1,data=df)\n",
    "    ax2 = plt.twinx()\n",
    "    sns.pointplot(x=col, y=metric_2,ax=ax2, data=df)\n",
    "    \n",
    "    return fig\n",
    "\n",
    "# Test\n",
    "df=cv_results_df\n",
    "metric_1=\"mean_test_score\"\n",
    "metric_2=\"mean_fit_time\"\n",
    "col=\"param_classifier__max_depth\"\n",
    "\n",
    "fig=serve_param_figure(cv_results_df,col,metric_1,metric_2)\n",
    "\n",
    "fig"
   ]
  },
  {
   "cell_type": "code",
   "execution_count": null,
   "metadata": {
    "ExecuteTime": {
     "end_time": "2018-08-20T23:55:50.421136Z",
     "start_time": "2018-08-20T23:55:50.303137Z"
    }
   },
   "outputs": [],
   "source": [
    "import sklearn.linear_model as linear_model\n",
    "import statsmodels.api as sm\n",
    "import numpy as np\n",
    "from scipy import stats\n",
    "from IPython.display import display as display\n",
    "\n",
    "# Needs review... use builtin instead\n",
    "def serve_regression_stats(df,score_result):\n",
    "\n",
    "    def drop_constant_columns(dataframe):\n",
    "        return dataframe.loc[:, (dataframe != dataframe.iloc[0]).any()]\n",
    "\n",
    "    all_reg=drop_constant_column(df)\n",
    "\n",
    "    reg_cols=[]\n",
    "    cat_cols=[]\n",
    "    for col in all_reg.columns:\n",
    "        if  col.startswith(\"param_\") or col==score_result:\n",
    "            reg_cols.append(col)\n",
    "\n",
    "    all_reg=all_reg[reg_cols]\n",
    "    all_reg=all_reg.convert_objects(convert_numeric=True)\n",
    "    all_reg\n",
    "\n",
    "    cat_cols=all_reg.select_dtypes(include=['object','category','bool']).columns\n",
    "    cat_cols\n",
    "    all_reg=pd.get_dummies(all_reg, columns=cat_cols,drop_first=True).fillna(0)\n",
    "    all_reg\n",
    "\n",
    "    y=all_reg[score_result].values\n",
    "    X=all_reg.drop(score_result,axis=1)\n",
    "    X_df=X\n",
    "\n",
    "    X = pd.DataFrame(X, columns = X_df.columns)\n",
    "    \n",
    "    lm = linear_model.LinearRegression(fit_intercept=True, normalize=True)\n",
    "    lm.fit(X,y)\n",
    "    params = np.append(lm.intercept_,lm.coef_)\n",
    "    predictions = lm.predict(X)\n",
    "\n",
    "    # https://stackoverflow.com/questions/27928275/find-p-value-significance-in-scikit-learn-linearregression/46912457\n",
    "    newX = pd.DataFrame({\"Constant\":np.ones(len(X))}).join(pd.DataFrame(X))\n",
    "    MSE = (sum((y-predictions)**2))/(len(newX)-len(newX.columns))\n",
    "\n",
    "    var_b = MSE*(np.linalg.inv(np.dot(newX.T,newX)).diagonal())\n",
    "    sd_b = np.sqrt(var_b)\n",
    "    ts_b = params/ sd_b\n",
    "\n",
    "    p_values =[2*(1-stats.t.cdf(np.abs(i),(len(newX)-1))) for i in ts_b]\n",
    "\n",
    "    sd_b = np.round(sd_b,3)\n",
    "    ts_b = np.round(ts_b,3)\n",
    "    p_values = np.round(p_values,3)\n",
    "    params = np.round(params,4)\n",
    "\n",
    "    results_df = pd.DataFrame()\n",
    "    results_df[\"Column\"]=X_df.columns.insert(0,\"intercept/default\")\n",
    "    results_df[\"Coefficients\"],results_df[\"Standard Errors\"],results_df[\"t values\"],results_df[\"Probabilites\"] = [params,sd_b,ts_b,p_values]\n",
    "\n",
    "    results_df[\"AbsCoef\"]=abs(results_df[\"Coefficients\"])\n",
    "\n",
    "    results_df[\"p?\"]=np.where(results_df['Probabilites']<.005, '***', np.where(results_df['Probabilites']<.05, '*', ''))\n",
    "\n",
    "    results_df.sort_values([\"p?\",\"AbsCoef\"],ascending=False,inplace=True)\n",
    "    \n",
    "    results_df.drop(\"t values\",axis=1,inplace=True)\n",
    "    return results_df\n",
    "\n",
    "# Test\n",
    "serve_regression_stats(cv_results_df,\"mean_test_score\")\n"
   ]
  },
  {
   "cell_type": "code",
   "execution_count": null,
   "metadata": {
    "ExecuteTime": {
     "end_time": "2018-08-20T23:56:12.001329Z",
     "start_time": "2018-08-20T23:56:11.889333Z"
    }
   },
   "outputs": [],
   "source": [
    "import matplotlib.pyplot as plt\n",
    "from io import BytesIO\n",
    "import base64\n",
    "import dash\n",
    "from dash.dependencies import Input, Output, State,Event\n",
    "import dash_core_components as dcc\n",
    "import dash_html_components as html\n",
    "import dash_table_experiments as dt\n",
    "import json\n",
    "import plotly\n",
    "from IPython import display\n",
    "from matplotlib import rcParams\n",
    "\n",
    "app = dash.Dash()\n",
    "\n",
    "metrics_list=cv_results_df.columns.values\n",
    "\n",
    "def fig_to_uri(in_fig, close_all=True, **save_args):\n",
    "    rcParams.update({'figure.autolayout': False})\n",
    "    out_img = BytesIO()\n",
    "    # cut issue: https://stackoverflow.com/questions/29901422/matplotlib-with-annotation-cut-off-from-the-saved-figure/29901470\n",
    "    in_fig.savefig(out_img, format='png',bbox_inches=\"tight\", **save_args)\n",
    "    if close_all:\n",
    "        in_fig.clf()\n",
    "        plt.close('all')\n",
    "    out_img.seek(0)  # rewind file\n",
    "    encoded = base64.b64encode(out_img.read()).decode(\"ascii\").replace(\"\\n\", \"\")\n",
    "    return \"data:image/png;base64,{}\".format(encoded)\n",
    "\n",
    "app.layout = html.Div([\n",
    "    # Reference: https://github.com/plotly/dash-svm/\n",
    "    # .container class is fixed, .container.scalable is scalable\n",
    "    html.Div(className=\"banner\", children=[\n",
    "        html.Div(className='container scalable', children=[\n",
    "            html.H2(html.A(\n",
    "                'Dash Search CV Eval - DevScope AI Lab',\n",
    "                href='https://github.com/DevScope/ai-lab',\n",
    "                style={\n",
    "                    'text-decoration': 'none',\n",
    "                    'color': 'inherit'\n",
    "                }\n",
    "            )),\n",
    "\n",
    "            html.A(\n",
    "                html.Img(src=\"https://s3-us-west-1.amazonaws.com/plotly-tutorials/logo/new-branding/dash-logo-by-plotly-stripe-inverted.png\"),\n",
    "                href='https://plot.ly/products/dash/'\n",
    "            )\n",
    "        ]),\n",
    "    ]),\n",
    "    html.Div(id='body', className='container scalable', children=[\n",
    "         html.Div([\n",
    "            html.Div(\n",
    "                [\n",
    "                    dt.DataTable(\n",
    "                        rows=cv_results_df.to_dict('records'),\n",
    "                        editable=False,\n",
    "                        sortable=True,\n",
    "                        columns=cv_results_df.columns.values,\n",
    "                        row_selectable=False,\n",
    "                        filterable=True,\n",
    "                        max_rows_in_viewport=4,\n",
    "                        id='score_table'\n",
    "                        ),\n",
    "                    \n",
    "                    dt.DataTable(\n",
    "                        rows=[{'No Rows': ''}],\n",
    "                        editable=False,\n",
    "                        sortable=True,\n",
    "                        #columns=cv_results_df.columns.values,\n",
    "                        row_selectable=False,\n",
    "                        filterable=True,\n",
    "                        max_rows_in_viewport=4,\n",
    "                        id='regression_table'\n",
    "                        ),\n",
    "                ],className=\"six columns\"),\n",
    "             html.Div(\n",
    "                 [\n",
    "                     html.Div(className=\"row\",children=[\n",
    "                         dcc.Dropdown(\n",
    "                             id='metric_1',\n",
    "                             options=[{'label':label,'value':label} for label in metrics_list],\n",
    "                             value=\"mean_test_score\",\n",
    "                             placeholder=\"Main axis\",\n",
    "                             className=\"six columns\"\n",
    "                            ),\n",
    "                        dcc.Dropdown(\n",
    "                             id='metric_2',\n",
    "                             options=[{'label':label,'value':label} for label in metrics_list],\n",
    "                             value=\"mean_fit_time\",\n",
    "                             placeholder=\"Secondary axis\",\n",
    "                            className=\"six columns\"\n",
    "                            )]),\n",
    "                    html.Div(id=\"output\",style={'height':'500px','overflow-y': 'scroll'})\n",
    "                   ],id=\"results\",className=\"six columns\")\n",
    "        ],className=\"row\")\n",
    "     ])\n",
    "])\n",
    "\n",
    "@app.callback(\n",
    "   Output('regression_table', 'rows'),\n",
    "   [Input(\"score_table\",\"rows\"),Input(\"metric_1\",\"value\"),Input(\"metric_2\",\"value\")])\n",
    "def update_regression_table(rows,metric_1,metric_2):\n",
    "    if len(rows)==0:\n",
    "        return []\n",
    "    \n",
    "    children=[]\n",
    "    \n",
    "    df_selected = pd.DataFrame(rows)\n",
    "    \n",
    "    df_regression= serve_regression_stats(df_selected,metric_1)\n",
    "    \n",
    "    return df_regression.to_dict('records')\n",
    "    \n",
    "@app.callback(\n",
    "   Output('output', 'children'),\n",
    "   [Input(\"score_table\",\"rows\"),Input(\"metric_1\",\"value\"),Input(\"metric_2\",\"value\")])\n",
    "def update_output_table(rows,metric_1,metric_2):\n",
    "    if len(rows)==0:\n",
    "        return []\n",
    "    \n",
    "    children=[]\n",
    "    \n",
    "    #rebuild dataframe from received data\n",
    "    df_selected = pd.DataFrame(rows)\n",
    "    \n",
    "    for col in df_selected.columns:\n",
    "        if col.startswith(\"param_\") and len(df_selected[col].unique())>1:\n",
    "            col_figure = serve_param_figure(df_selected,col,metric_1,metric_2)\n",
    "            children.append(html.Img(src = fig_to_uri(col_figure)))\n",
    "    \n",
    "    return children\n",
    "\n",
    "# Reference: https://github.com/plotly/dash-svm/\n",
    "external_css = [\n",
    "    # Normalize the CSS\n",
    "    \"https://cdnjs.cloudflare.com/ajax/libs/normalize/7.0.0/normalize.min.css\",\n",
    "    # Fonts\n",
    "    \"https://fonts.googleapis.com/css?family=Open+Sans|Roboto\",\n",
    "    \"https://maxcdn.bootstrapcdn.com/font-awesome/4.7.0/css/font-awesome.min.css\",\n",
    "    # Base Stylesheet, replace this with your own base-styles.css using Rawgit\n",
    "    \"https://rawgit.com/xhlulu/9a6e89f418ee40d02b637a429a876aa9/raw/f3ea10d53e33ece67eb681025cedc83870c9938d/base-styles.css\",\n",
    "    # Custom Stylesheet, replace this with your own custom-styles.css using Rawgit\n",
    "    \"https://cdn.rawgit.com/plotly/dash-svm/bb031580/custom-styles.css\"\n",
    "]\n",
    "\n",
    "for css in external_css:\n",
    "    app.css.append_css({\"external_url\": css})\n",
    "    "
   ]
  },
  {
   "cell_type": "code",
   "execution_count": null,
   "metadata": {
    "ExecuteTime": {
     "end_time": "2018-08-21T00:05:01.545903Z",
     "start_time": "2018-08-20T23:56:13.310437Z"
    }
   },
   "outputs": [],
   "source": [
    "# use <esc> i+i on Jupyter to quick interrupt & get control back to jupyter\n",
    "lab.show_app(app=app,port=10003)\n"
   ]
  }
 ],
 "metadata": {
  "hide_input": false,
  "kernelspec": {
   "display_name": "Python 3",
   "language": "python",
   "name": "python3"
  },
  "language_info": {
   "codemirror_mode": {
    "name": "ipython",
    "version": 3
   },
   "file_extension": ".py",
   "mimetype": "text/x-python",
   "name": "python",
   "nbconvert_exporter": "python",
   "pygments_lexer": "ipython3",
   "version": "3.6.5"
  },
  "toc": {
   "base_numbering": 1,
   "nav_menu": {},
   "number_sections": true,
   "sideBar": true,
   "skip_h1_title": false,
   "title_cell": "Table of Contents",
   "title_sidebar": "Contents",
   "toc_cell": false,
   "toc_position": {},
   "toc_section_display": true,
   "toc_window_display": true
  },
  "varInspector": {
   "cols": {
    "lenName": 16,
    "lenType": 16,
    "lenVar": 40
   },
   "kernels_config": {
    "python": {
     "delete_cmd_postfix": "",
     "delete_cmd_prefix": "del ",
     "library": "var_list.py",
     "varRefreshCmd": "print(var_dic_list())"
    },
    "r": {
     "delete_cmd_postfix": ") ",
     "delete_cmd_prefix": "rm(",
     "library": "var_list.r",
     "varRefreshCmd": "cat(var_dic_list()) "
    }
   },
   "types_to_exclude": [
    "module",
    "function",
    "builtin_function_or_method",
    "instance",
    "_Feature"
   ],
   "window_display": false
  }
 },
 "nbformat": 4,
 "nbformat_minor": 2
}
