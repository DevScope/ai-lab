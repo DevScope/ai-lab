{
 "cells": [
  {
   "cell_type": "code",
   "execution_count": null,
   "metadata": {
    "ExecuteTime": {
     "end_time": "2019-12-16T21:17:20.874890Z",
     "start_time": "2019-12-16T21:17:20.770349Z"
    }
   },
   "outputs": [],
   "source": [
    "%load_ext autoreload\n",
    "%autoreload 2"
   ]
  },
  {
   "cell_type": "markdown",
   "metadata": {},
   "source": [
    "# AI Lab tools/utils"
   ]
  },
  {
   "cell_type": "code",
   "execution_count": null,
   "metadata": {
    "ExecuteTime": {
     "end_time": "2019-12-16T21:17:23.327332Z",
     "start_time": "2019-12-16T21:17:22.844749Z"
    }
   },
   "outputs": [],
   "source": [
    "import ailab as lab"
   ]
  },
  {
   "cell_type": "markdown",
   "metadata": {},
   "source": [
    "# Check Imports\n"
   ]
  },
  {
   "cell_type": "code",
   "execution_count": null,
   "metadata": {
    "ExecuteTime": {
     "end_time": "2018-08-16T22:43:47.057201Z",
     "start_time": "2018-08-16T22:43:40.410206Z"
    }
   },
   "outputs": [],
   "source": [
    "import dash\n",
    "from dash.dependencies import Input, Output, State\n",
    "import dash_core_components as dcc\n",
    "import dash_html_components as html\n",
    "import dash_table_experiments as dt\n",
    "import json\n",
    "import pandas as pd\n",
    "import numpy as np\n",
    "import plotly\n",
    "from IPython import display\n",
    "import os"
   ]
  },
  {
   "cell_type": "markdown",
   "metadata": {},
   "source": [
    "# Dash App"
   ]
  },
  {
   "cell_type": "code",
   "execution_count": null,
   "metadata": {
    "ExecuteTime": {
     "end_time": "2018-08-18T00:30:10.321767Z",
     "start_time": "2018-08-18T00:30:09.844549Z"
    }
   },
   "outputs": [],
   "source": [
    "#From https://github.com/plotly/dash-table-experiments/blob/master/usage-callback.py\n",
    "\n",
    "import dash\n",
    "from dash.dependencies import Input, Output\n",
    "import dash_core_components as dcc\n",
    "import dash_html_components as html\n",
    "import dash_table_experiments as dt\n",
    "import pandas as pd\n",
    "\n",
    "app = dash.Dash()\n",
    "\n",
    "# app.scripts.config.serve_locally = True\n",
    "# app.css.config.serve_locally = True\n",
    "\n",
    "DF_GAPMINDER = pd.read_csv(\n",
    "    'https://raw.githubusercontent.com/plotly/datasets/master/gapminderDataFiveYear.csv'\n",
    ")\n",
    "DF_GAPMINDER = DF_GAPMINDER[DF_GAPMINDER['year'] == 2007]\n",
    "DF_GAPMINDER.loc[0:20]\n",
    "\n",
    "DF_SIMPLE = pd.DataFrame({\n",
    "    'x': ['A', 'B', 'C', 'D', 'E', 'F'],\n",
    "    'y': [4, 3, 1, 2, 3, 6],\n",
    "    'z': ['a', 'b', 'c', 'a', 'b', 'c']\n",
    "})\n",
    "\n",
    "\n",
    "dataframes = {'DF_GAPMINDER': DF_GAPMINDER,\n",
    "              'DF_SIMPLE': DF_SIMPLE}\n",
    "\n",
    "\n",
    "def get_data_object(user_selection):\n",
    "    \"\"\"\n",
    "    For user selections, return the relevant in-memory data frame.\n",
    "    \"\"\"\n",
    "    return dataframes[user_selection]\n",
    "\n",
    "\n",
    "app.layout = html.Div([\n",
    "    html.H4('DataTable'),\n",
    "    html.Label('Report type:', style={'font-weight': 'bold'}),\n",
    "    dcc.Dropdown(\n",
    "        id='field-dropdown',\n",
    "        options=[{'label': df, 'value': df} for df in dataframes],\n",
    "        value='DF_GAPMINDER',\n",
    "        clearable=False\n",
    "    ),\n",
    "    dt.DataTable(\n",
    "        # Initialise the rows\n",
    "        rows=[{}],\n",
    "        row_selectable=True,\n",
    "        filterable=True,\n",
    "        sortable=True,\n",
    "        selected_row_indices=[],\n",
    "        id='table'\n",
    "    ),\n",
    "    html.Div(id='selected-indexes')\n",
    "], className='container')\n",
    "\n",
    "\n",
    "@app.callback(Output('table', 'rows'), [Input('field-dropdown', 'value')])\n",
    "def update_table(user_selection):\n",
    "    \"\"\"\n",
    "    For user selections, return the relevant table\n",
    "    \"\"\"\n",
    "    df = get_data_object(user_selection)\n",
    "    return df.to_dict('records')\n",
    "\n",
    "\n",
    "app.css.append_css({\n",
    "    'external_url': 'https://codepen.io/chriddyp/pen/bWLwgP.css'\n",
    "})\n",
    "\n",
    "\n",
    "\n"
   ]
  },
  {
   "cell_type": "markdown",
   "metadata": {},
   "source": [
    "# Start Dash"
   ]
  },
  {
   "cell_type": "code",
   "execution_count": null,
   "metadata": {
    "ExecuteTime": {
     "end_time": "2018-08-17T09:47:25.279967Z",
     "start_time": "2018-08-16T22:43:49.134203Z"
    }
   },
   "outputs": [],
   "source": [
    "# use <esc> i+i on Jupyter to quick interrupt & get control back to jupyter\n",
    "lab.show_app(app)"
   ]
  }
 ],
 "metadata": {
  "hide_input": false,
  "kernelspec": {
   "display_name": "Python 3",
   "language": "python",
   "name": "python3"
  },
  "language_info": {
   "codemirror_mode": {
    "name": "ipython",
    "version": 3
   },
   "file_extension": ".py",
   "mimetype": "text/x-python",
   "name": "python",
   "nbconvert_exporter": "python",
   "pygments_lexer": "ipython3",
   "version": "3.6.5"
  },
  "toc": {
   "base_numbering": 1,
   "nav_menu": {},
   "number_sections": true,
   "sideBar": true,
   "skip_h1_title": false,
   "title_cell": "Table of Contents",
   "title_sidebar": "Contents",
   "toc_cell": false,
   "toc_position": {
    "height": "calc(100% - 180px)",
    "left": "10px",
    "top": "150px",
    "width": "273px"
   },
   "toc_section_display": true,
   "toc_window_display": true
  },
  "varInspector": {
   "cols": {
    "lenName": 16,
    "lenType": 16,
    "lenVar": 40
   },
   "kernels_config": {
    "python": {
     "delete_cmd_postfix": "",
     "delete_cmd_prefix": "del ",
     "library": "var_list.py",
     "varRefreshCmd": "print(var_dic_list())"
    },
    "r": {
     "delete_cmd_postfix": ") ",
     "delete_cmd_prefix": "rm(",
     "library": "var_list.r",
     "varRefreshCmd": "cat(var_dic_list()) "
    }
   },
   "types_to_exclude": [
    "module",
    "function",
    "builtin_function_or_method",
    "instance",
    "_Feature"
   ],
   "window_display": false
  }
 },
 "nbformat": 4,
 "nbformat_minor": 2
}
