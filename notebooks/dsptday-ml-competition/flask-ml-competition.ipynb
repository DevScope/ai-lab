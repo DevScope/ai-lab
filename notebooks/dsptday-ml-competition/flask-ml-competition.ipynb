{
 "cells": [
  {
   "cell_type": "code",
   "execution_count": 12,
   "metadata": {
    "ExecuteTime": {
     "end_time": "2018-10-10T14:44:37.751543Z",
     "start_time": "2018-10-10T14:44:37.657557Z"
    },
    "collapsed": true
   },
   "outputs": [],
   "source": [
    "from flask import Flask, Blueprint, jsonify\n",
    "import socket\n",
    "import time\n",
    "import joblib\n",
    "import sklearn\n",
    "import json\n",
    "import flask\n",
    "import scipy\n",
    "import pprint\n",
    "import redis\n",
    "import pickle\n",
    "\n",
    "import logging\n",
    "from sklearn.linear_model import LogisticRegression\n",
    "from sklearn.tree import DecisionTreeClassifier\n",
    "from sklearn.svm import SVC\n",
    "\n",
    "from sklearn_pandas import DataFrameMapper\n",
    "from sklearn.ensemble import RandomForestClassifier,ExtraTreesClassifier\n",
    "from sklearn.pipeline import Pipeline\n",
    "import numpy as np\n",
    "from sklearn.model_selection import cross_val_score,RepeatedStratifiedKFold\n",
    "import sklearn.preprocessing as pp\n",
    "import pandas as pd\n",
    "from sklearn.base import TransformerMixin\n",
    "from sklearn.decomposition import PCA\n",
    "from sklearn.feature_extraction.text import CountVectorizer\n",
    "from sklearn.feature_extraction.text import TfidfVectorizer\n",
    "\n",
    "\n",
    "import datetime\n",
    "import pytz\n",
    "import uuid\n",
    "\n",
    "import traceback\n",
    "\n",
    "logging.basicConfig(level=logging.INFO)\n",
    "logger = logging.getLogger(__name__)\n",
    "\n",
    "def now_localtz():\n",
    "    return datetime.datetime.now(pytz.timezone('Europe/Lisbon'))\n",
    "\n",
    "VERSION=\"20181005-8\"\n",
    "DATE_STARTED=now_localtz()\n",
    "HOSTNAME=joblib.hash(\"salted2662\"+socket.gethostname())\n",
    "WORKER_ID=str(uuid.uuid4())\n",
    "\n",
    "USE_CACHE=False\n",
    "REDIS_HOST=\"XXXXXXXXX.redis.cache.windows.net\"\n",
    "REDIS_KEY=\"XXXXXXXXXXXXXXXXXXXXXXXXXXXXXXXXX\"\n",
    "CACHE_VERSION=\"v3\"\n",
    "\n",
    "app = Flask(__name__)\n",
    "\n",
    "\n",
    "# LogicApps configured to send all Msft Forms full form body with question Ids and forms answers\n",
    "# We map here each question id to sklearn algorithm and pipeline parameters\n",
    "\n",
    "FORM_IDS={\n",
    "    \"rf71efaaee75f4869b3a24de441b09919\":\"algorithm\",\n",
    "    \"r52e336e1f3564f47b9359debc320a7ce\":\"nickname\",\n",
    "    \"r71b640ccadb844af885b17eb733c4a8b\":\"logreg__penalty\",\n",
    "    \"r462aa2316f0f4819a7bf1e20bd729975\":\"logreg__C\",\n",
    "\n",
    "    \"rd24bc7e764d34b1b83c8d3acf2a91203\":\"rf__n_estimators\",\n",
    "    \"re36df3b7827a41b38742ebab3a9d09d5\":\"rf__criterion\",\n",
    "    \"r189c2542d50b491f8086f02963b7a081\":\"rf__max_depth\",\n",
    "    \"rc9525cd279d14be38771f6f40e4316e4\":\"rf__min_samples_leaf\",\n",
    "    \"rce0c88b0fb9248498ff46de546904f63\":\"rf__max_features\",\n",
    "\n",
    "    \"r6ea09cddd77447e7b5391b31f7945537\":\"dt__criterion\",\n",
    "    \"rba34bf1b855d4ec9a29a74585dcb6bae\":\"dt__max_depth\",\n",
    "    \"rdf6bfb2bd41b405b9dc170e39a6d5154\":\"dt__min_samples_split\",\n",
    "    \"r674ff05de69a4cacbf1e505e55c76281\":\"dt__min_samples_leaf\",\n",
    "    \"r56862ced92a64fd598fbeabc0cbc8d67\":\"dt__max_features\",\n",
    "\n",
    "    \"r2153f109fe2b418795a01c53b500af04\":\"svm__kernel\",\n",
    "    \"rb62cd150e455454c8098824e05a4c8b5\":\"svm__degree\",\n",
    "    \"r96df4ff1491246e4a6d3ad95148f61cb\":\"svm__C\",\n",
    "    \n",
    "    \"reea67b283e9d446096c7c3ab825169bf\":\"xt__n_estimators\",\n",
    "    \n",
    "    \"r4849ae4db1c34253b08dac5b9a66de63\":\"pca\",\n",
    "    \n",
    "    \"r4ca8638f21674388b85b1ffe385a8742\":\"text_preproc\"\n",
    "}\n",
    "\n",
    "@app.route(\"/\")\n",
    "def hello():\n",
    "    hostname=socket.gethostname()\n",
    "    return f\"App Version: {VERSION}\\r\\nHostname:{HOSTNAME}\\r\\nWorker Id:{WORKER_ID}\\r\\nDate Started:{DATE_STARTED}\".replace(\"\\r\\n\",\"<br>\")\n",
    "\n",
    "\n",
    "\n",
    "@app.route(\"/train\",methods=[\"POST\"])\n",
    "def train_route():\n",
    "    \n",
    "    time_started = now_localtz()\n",
    "    \n",
    "    results={}\n",
    "    \n",
    "    try:\n",
    "        print(flask.request.data)\n",
    "        raw_params=json.loads(flask.request.data)\n",
    "        \n",
    "        # Translate form question keys ids into friendly keys\n",
    "        form_params={}\n",
    "        for k in raw_params.keys():\n",
    "            if FORM_IDS.get(k):\n",
    "                form_params[FORM_IDS[k]]=raw_params[k]\n",
    "        \n",
    "        print(form_params)\n",
    "        \n",
    "        # Call inner train\n",
    "        scores=train(**form_params)        \n",
    "        \n",
    "        results[\"status\"]=\"ok\"\n",
    "\n",
    "        results[\"scores\"]=','.join(str(x) for x in scores)        \n",
    "        results[\"score_mean\"]=np.mean(scores)\n",
    "        results[\"score_std\"]=np.std(scores)\n",
    "        results[\"score_hmean\"]=scipy.stats.hmean(scores)\n",
    "        \n",
    "    except Exception as error:\n",
    "        results[\"exception\"]=str(error)\n",
    "        results[\"status\"]=\"error\"\n",
    "\n",
    "        # Numbers cannot be null or \"\" :(\n",
    "        results[\"score_std\"]=0\n",
    "        results[\"score_hmean\"]=0\n",
    "        results[\"score_mean\"]=0\n",
    "        \n",
    "        print(\"Error: %s\"%(error))\n",
    "        pass\n",
    "    finally:\n",
    "        time_ended = now_localtz()\n",
    "    \n",
    "    \n",
    "    results[\"notes\"]=str(form_params)\n",
    "    results[\"timestamp\"]=time_ended.isoformat()\n",
    "    \n",
    "    # Add Hour/time/Second to each submission nickname\n",
    "    nickname=form_params.get(\"nickname\",\"-\")[0:10]+\" (\"+now_localtz().strftime(\"%H_%M_%S\")+\")\"    \n",
    "    results[\"nickname\"]=nickname\n",
    "    results[\"duration_secs\"]=(time_ended - time_started).total_seconds()\n",
    "    \n",
    "    results[\"algorithm\"]=form_params.get(\"algorithm\",\"-\")\n",
    "    results[\"app_version\"]=VERSION\n",
    "    results[\"host\"]=HOSTNAME\n",
    "    print(results)\n",
    "    return (jsonify(results))\n",
    "        \n",
    "\n",
    "class DataFrameImputer(TransformerMixin):\n",
    "\n",
    "    def __init__(self, default_value=\"NA\"):\n",
    "        self.default_value = default_value\n",
    "        \n",
    "    def fit(self, X, y=None):\n",
    "        return self\n",
    "\n",
    "    def transform(self, X, y=None):\n",
    "        return pd.DataFrame(X).fillna(self.default_value)\n",
    "\n",
    "# Dataset loads here\n",
    "df_train=pd.read_csv(\"train.csv\")\n",
    "y=df_train.pop(\"Survived\")\n",
    "X=df_train\n",
    "\n",
    "# Cache (redis)\n",
    "if USE_CACHE:\n",
    "    cache = redis.StrictRedis(host=f'{REDIS_HOST}',\n",
    "            port=6380, db=0, password=f'{REDIS_KEY}', ssl=True)\n",
    "\n",
    "    cache_ping=cache.ping()\n",
    "\n",
    "    print(\"Redis Ping returned : \" + str(cache_ping))\n",
    "else:\n",
    "    cache=None\n",
    "\n",
    "# Main train function\n",
    "def train(**kargs):\n",
    "      \n",
    "    random_state=43\n",
    "    \n",
    "    rskf = RepeatedStratifiedKFold(n_splits=5, n_repeats=1,random_state=random_state)\n",
    "    \n",
    "    if kargs[\"algorithm\"]==\"Logistic Regression\":\n",
    "        clf=LogisticRegression(random_state=random_state)\n",
    "        clf_name=\"logreg\"\n",
    "    \n",
    "    if kargs[\"algorithm\"]==\"Random Forest\":\n",
    "        clf=RandomForestClassifier(random_state=random_state)\n",
    "        clf_name=\"rf\"\n",
    "    \n",
    "    if kargs[\"algorithm\"]==\"Decision Tree\":\n",
    "        clf=DecisionTreeClassifier(random_state=random_state)\n",
    "        clf_name=\"dt\"\n",
    "    \n",
    "    if kargs[\"algorithm\"]==\"SVM\":\n",
    "        clf=SVC(random_state=random_state)\n",
    "        clf_name=\"svm\"\n",
    "    \n",
    "    if kargs[\"algorithm\"]==\"Extra Trees\":\n",
    "        clf=ExtraTreesClassifier(random_state=random_state)\n",
    "        clf_name=\"xt\"\n",
    "        \n",
    "    print(\"train params\",kargs)\n",
    "    \n",
    "    pipeline=[]\n",
    "    \n",
    "    # Basic post prep pipeline (onehot/remove any remaining NA), make the dataset scikit compliant\n",
    "    nums=[ ([c],pp.Imputer()) for c in X.select_dtypes(np.number)]\n",
    "    cats=[ ([c],[DataFrameImputer(default_value=\"\"), pp.LabelBinarizer()]) for c in X.select_dtypes(\"object\")]\n",
    "    \n",
    "    texts=[]\n",
    "    text_preproc=kargs.get(\"text_preproc\")\n",
    "    if text_preproc and text_preproc!=\"None\":\n",
    "        if text_preproc==\"Tfidf\":\n",
    "            texts=[ (\"Name\",TfidfVectorizer())]\n",
    "        elif text_preproc==\"Count\":\n",
    "            texts=[ (\"Name\",CountVectorizer())]\n",
    "        else:\n",
    "            raise(Exception(f\"not valid:{text_preproc}\"))\n",
    "    \n",
    "    print(texts)\n",
    "    mapper=DataFrameMapper(nums+cats+texts,df_out=True)\n",
    "\n",
    "    pipeline.append(('featurize', mapper))\n",
    "        \n",
    "    pca=kargs.get(\"pca\")\n",
    "    if pca and pca!=\"Disabled\":\n",
    "        print(\"add pca\")\n",
    "        pipeline.append(('pca', PCA(n_components=guess_type(kargs[\"pca\"]))))\n",
    "        \n",
    "    pipeline.append((clf_name,clf))\n",
    "    \n",
    "     # Our full pipeline\n",
    "    train_pipeline=Pipeline(pipeline)\n",
    "    \n",
    "    # Set classifier parameters\n",
    "    for k in kargs.keys():\n",
    "        if (clf_name+\"__\") in k:            \n",
    "            train_pipeline.set_params(**{k:guess_type(kargs[k])})\n",
    "    # Dump\n",
    "    for step in train_pipeline.steps:\n",
    "        pprint.pprint(step)\n",
    "        \n",
    "    # Check cache\n",
    "    if USE_CACHE:\n",
    "        cache_key=CACHE_VERSION+\"__\"+str(joblib.hash(train_pipeline))\n",
    "        print(\"Cache key:\",cache_key)\n",
    "        scores=cache.get(cache_key)        \n",
    "        print(\"From Cache\")\n",
    "        scores=pickle.loads(scores)\n",
    "        return scores+np.random.normal(0,.0005,len(scores))*100\n",
    "    \n",
    "    print(\"Not in cache, training...\")\n",
    "    \n",
    "    # Train/Cross eval\n",
    "    scores=cross_val_score(X=X,y=y,cv=rskf,estimator=train_pipeline,verbose=5,n_jobs=1,scoring=\"accuracy\")\n",
    "    scores=(scores*100).round(3)\n",
    "   \n",
    "    if USE_CACHE:\n",
    "        print(\"Saving in cache...\")\n",
    "        cache.set(cache_key,pickle.dumps(scores))\n",
    "    \n",
    "    return scores+np.random.normal(0,.0005,len(scores))*100\n",
    "\n",
    "\n",
    "def guess_type(s):\n",
    "    if not isinstance(s,str):\n",
    "        return s\n",
    "    if s==\"\" or s==\"None\" or s==\"none\":\n",
    "        return None\n",
    "    try:\n",
    "        if np.isclose(float(s),int(s)):\n",
    "            return (int(s))\n",
    "    except:\n",
    "        try:\n",
    "            return (float(s))\n",
    "        except:\n",
    "            try:\n",
    "                return (int(s))\n",
    "            except:\n",
    "                return str(s)\n",
    "                pass\n",
    "            pass\n",
    "        pass"
   ]
  },
  {
   "cell_type": "code",
   "execution_count": 13,
   "metadata": {
    "ExecuteTime": {
     "end_time": "2018-10-10T14:44:41.285821Z",
     "start_time": "2018-10-10T14:44:39.189821Z"
    }
   },
   "outputs": [
    {
     "name": "stdout",
     "output_type": "stream",
     "text": [
      "train params {'algorithm': 'Extra Trees', 'logreg__C': '.05', 'pca': '5', 'xt__n_estimators': 71, 'text_preproc': 'Count', 'nickname': 'teste'}\n",
      "[('Name', CountVectorizer(analyzer='word', binary=False, decode_error='strict',\n",
      "        dtype=<class 'numpy.int64'>, encoding='utf-8', input='content',\n",
      "        lowercase=True, max_df=1.0, max_features=None, min_df=1,\n",
      "        ngram_range=(1, 1), preprocessor=None, stop_words=None,\n",
      "        strip_accents=None, token_pattern='(?u)\\\\b\\\\w\\\\w+\\\\b',\n",
      "        tokenizer=None, vocabulary=None))]\n",
      "add pca\n",
      "('featurize',\n",
      " DataFrameMapper(default=False, df_out=True,\n",
      "        features=[(['PassengerId'], Imputer(axis=0, copy=True, missing_values='NaN', strategy='mean', verbose=0)), (['Pclass'], Imputer(axis=0, copy=True, missing_values='NaN', strategy='mean', verbose=0)), (['Age'], Imputer(axis=0, copy=True, missing_values='NaN', strategy='mean', verbose=0)), (['SibSp'], ...   strip_accents=None, token_pattern='(?u)\\\\b\\\\w\\\\w+\\\\b',\n",
      "        tokenizer=None, vocabulary=None))],\n",
      "        input_df=False, sparse=False))\n",
      "('pca',\n",
      " PCA(copy=True, iterated_power='auto', n_components=5, random_state=None,\n",
      "  svd_solver='auto', tol=0.0, whiten=False))\n",
      "('xt',\n",
      " ExtraTreesClassifier(bootstrap=False, class_weight=None, criterion='gini',\n",
      "           max_depth=None, max_features='auto', max_leaf_nodes=None,\n",
      "           min_impurity_decrease=0.0, min_impurity_split=None,\n",
      "           min_samples_leaf=1, min_samples_split=2,\n",
      "           min_weight_fraction_leaf=0.0, n_estimators=71, n_jobs=1,\n",
      "           oob_score=False, random_state=43, verbose=0, warm_start=False))\n",
      "Not in cache, training...\n",
      "[CV]  ................................................................\n",
      "[CV] ....................... , score=0.8415841584158416, total=   0.4s\n",
      "[CV]  ................................................................\n"
     ]
    },
    {
     "name": "stderr",
     "output_type": "stream",
     "text": [
      "[Parallel(n_jobs=1)]: Done   1 out of   1 | elapsed:    0.4s remaining:    0.0s\n"
     ]
    },
    {
     "name": "stdout",
     "output_type": "stream",
     "text": [
      "[CV] ........................ , score=0.801980198019802, total=   0.3s\n",
      "[CV]  ................................................................\n"
     ]
    },
    {
     "name": "stderr",
     "output_type": "stream",
     "text": [
      "[Parallel(n_jobs=1)]: Done   2 out of   2 | elapsed:    0.8s remaining:    0.0s\n"
     ]
    },
    {
     "name": "stdout",
     "output_type": "stream",
     "text": [
      "[CV] ..................................... , score=0.83, total=   0.2s\n",
      "[CV]  ................................................................\n"
     ]
    },
    {
     "name": "stderr",
     "output_type": "stream",
     "text": [
      "[Parallel(n_jobs=1)]: Done   3 out of   3 | elapsed:    1.2s remaining:    0.0s\n"
     ]
    },
    {
     "name": "stdout",
     "output_type": "stream",
     "text": [
      "[CV] ....................... , score=0.7676767676767676, total=   0.3s\n",
      "[CV]  ................................................................\n"
     ]
    },
    {
     "name": "stderr",
     "output_type": "stream",
     "text": [
      "[Parallel(n_jobs=1)]: Done   4 out of   4 | elapsed:    1.6s remaining:    0.0s\n"
     ]
    },
    {
     "name": "stdout",
     "output_type": "stream",
     "text": [
      "[CV] ....................... , score=0.7474747474747475, total=   0.2s\n",
      "Wall time: 2.08 s\n"
     ]
    },
    {
     "name": "stderr",
     "output_type": "stream",
     "text": [
      "[Parallel(n_jobs=1)]: Done   5 out of   5 | elapsed:    2.0s finished\n"
     ]
    },
    {
     "data": {
      "text/plain": [
       "79.76327197186158"
      ]
     },
     "execution_count": 13,
     "metadata": {},
     "output_type": "execute_result"
    }
   ],
   "source": [
    "%%time\n",
    "np.mean(train(**{\"algorithm\":\"Extra Trees\",\"logreg__C\":\".05\",\"pca\":\"5\",\"xt__n_estimators\":71,\"text_preproc\":\"Count\",\"nickname\":\"teste\"}))"
   ]
  },
  {
   "cell_type": "code",
   "execution_count": null,
   "metadata": {
    "ExecuteTime": {
     "start_time": "2018-10-10T14:44:44.379Z"
    },
    "scrolled": false
   },
   "outputs": [
    {
     "name": "stderr",
     "output_type": "stream",
     "text": [
      "INFO:werkzeug: * Running on http://localhost:9001/ (Press CTRL+C to quit)\n"
     ]
    },
    {
     "name": "stdout",
     "output_type": "stream",
     "text": [
      "b'{\"responder\": \"anonymous\", \"submitDate\": \"10/3/2018 9:21:44 AM\", \"rf71efaaee75f4869b3a24de441b09919\": \"Random Forest\", \"rd24bc7e764d34b1b83c8d3acf2a91203\": \"5\", \"re36df3b7827a41b38742ebab3a9d09d5\": \"gini\", \"r189c2542d50b491f8086f02963b7a081\": \"1\", \"rc9525cd279d14be38771f6f40e4316e4\": \"1\", \"rce0c88b0fb9248498ff46de546904f63\": \"auto\"}'\n",
      "{'algorithm': 'Random Forest', 'rf__n_estimators': '5', 'rf__criterion': 'gini', 'rf__max_depth': '1', 'rf__min_samples_leaf': '1', 'rf__max_features': 'auto'}\n",
      "train params {'algorithm': 'Random Forest', 'rf__n_estimators': '5', 'rf__criterion': 'gini', 'rf__max_depth': '1', 'rf__min_samples_leaf': '1', 'rf__max_features': 'auto'}\n",
      "[]\n",
      "('featurize',\n",
      " DataFrameMapper(default=False, df_out=True,\n",
      "        features=[(['PassengerId'], Imputer(axis=0, copy=True, missing_values='NaN', strategy='mean', verbose=0)), (['Pclass'], Imputer(axis=0, copy=True, missing_values='NaN', strategy='mean', verbose=0)), (['Age'], Imputer(axis=0, copy=True, missing_values='NaN', strategy='mean', verbose=0)), (['SibSp'], ...uter object at 0x000001AAF9A10860>, LabelBinarizer(neg_label=0, pos_label=1, sparse_output=False)])],\n",
      "        input_df=False, sparse=False))\n",
      "('rf',\n",
      " RandomForestClassifier(bootstrap=True, class_weight=None, criterion='gini',\n",
      "            max_depth=1, max_features='auto', max_leaf_nodes=None,\n",
      "            min_impurity_decrease=0.0, min_impurity_split=None,\n",
      "            min_samples_leaf=1, min_samples_split=2,\n",
      "            min_weight_fraction_leaf=0.0, n_estimators=5, n_jobs=1,\n",
      "            oob_score=False, random_state=43, verbose=0, warm_start=False))\n",
      "Not in cache, training...\n",
      "[CV]  ................................................................\n",
      "[CV] ....................... , score=0.6138613861386139, total=   0.0s\n",
      "[CV]  ................................................................\n"
     ]
    },
    {
     "name": "stderr",
     "output_type": "stream",
     "text": [
      "[Parallel(n_jobs=1)]: Done   1 out of   1 | elapsed:    0.0s remaining:    0.0s\n",
      "[Parallel(n_jobs=1)]: Done   2 out of   2 | elapsed:    0.2s remaining:    0.0s\n"
     ]
    },
    {
     "name": "stdout",
     "output_type": "stream",
     "text": [
      "[CV] ....................... , score=0.6138613861386139, total=   0.0s\n",
      "[CV]  ................................................................\n",
      "[CV] ..................................... , score=0.61, total=   0.0s\n",
      "[CV]  ................................................................\n"
     ]
    },
    {
     "name": "stderr",
     "output_type": "stream",
     "text": [
      "[Parallel(n_jobs=1)]: Done   3 out of   3 | elapsed:    0.3s remaining:    0.0s\n",
      "[Parallel(n_jobs=1)]: Done   4 out of   4 | elapsed:    0.4s remaining:    0.0s\n",
      "[Parallel(n_jobs=1)]: Done   5 out of   5 | elapsed:    0.6s finished\n",
      "INFO:werkzeug:127.0.0.1 - - [10/Oct/2018 15:44:48] \"POST /train HTTP/1.1\" 200 -\n"
     ]
    },
    {
     "name": "stdout",
     "output_type": "stream",
     "text": [
      "[CV] ....................... , score=0.6161616161616161, total=   0.0s\n",
      "[CV]  ................................................................\n",
      "[CV] ....................... , score=0.6161616161616161, total=   0.0s\n",
      "{'status': 'ok', 'scores': '61.40957088929663,61.38958632956647,61.003267809224134,61.64679931469443,61.66635600823064', 'score_mean': 61.423116070202454, 'score_std': 0.2394911852230976, 'score_hmean': 61.42217969744601, 'notes': \"{'algorithm': 'Random Forest', 'rf__n_estimators': '5', 'rf__criterion': 'gini', 'rf__max_depth': '1', 'rf__min_samples_leaf': '1', 'rf__max_features': 'auto'}\", 'timestamp': '2018-10-10T15:44:48.670543+01:00', 'nickname': '- (15_44_48)', 'duration_secs': 0.68398, 'algorithm': 'Random Forest', 'app_version': '20181005-8', 'host': '894b6b96e69789f578ab719a1165c613'}\n",
      "b'{\"responder\": \"anonymous\", \"submitDate\": \"10/3/2018 9:21:44 AM\", \"rf71efaaee75f4869b3a24de441b09919\": \"Random Forest\", \"rd24bc7e764d34b1b83c8d3acf2a91203\": \"5\", \"re36df3b7827a41b38742ebab3a9d09d5\": \"gini\", \"r189c2542d50b491f8086f02963b7a081\": \"1\", \"rc9525cd279d14be38771f6f40e4316e4\": \"1\", \"rce0c88b0fb9248498ff46de546904f63\": \"auto\"}'\n",
      "{'algorithm': 'Random Forest', 'rf__n_estimators': '5', 'rf__criterion': 'gini', 'rf__max_depth': '1', 'rf__min_samples_leaf': '1', 'rf__max_features': 'auto'}\n",
      "train params {'algorithm': 'Random Forest', 'rf__n_estimators': '5', 'rf__criterion': 'gini', 'rf__max_depth': '1', 'rf__min_samples_leaf': '1', 'rf__max_features': 'auto'}\n",
      "[]\n",
      "('featurize',\n",
      " DataFrameMapper(default=False, df_out=True,\n",
      "        features=[(['PassengerId'], Imputer(axis=0, copy=True, missing_values='NaN', strategy='mean', verbose=0)), (['Pclass'], Imputer(axis=0, copy=True, missing_values='NaN', strategy='mean', verbose=0)), (['Age'], Imputer(axis=0, copy=True, missing_values='NaN', strategy='mean', verbose=0)), (['SibSp'], ...uter object at 0x000001AAF9917B00>, LabelBinarizer(neg_label=0, pos_label=1, sparse_output=False)])],\n",
      "        input_df=False, sparse=False))\n",
      "('rf',\n",
      " RandomForestClassifier(bootstrap=True, class_weight=None, criterion='gini',\n",
      "            max_depth=1, max_features='auto', max_leaf_nodes=None,\n",
      "            min_impurity_decrease=0.0, min_impurity_split=None,\n",
      "            min_samples_leaf=1, min_samples_split=2,\n",
      "            min_weight_fraction_leaf=0.0, n_estimators=5, n_jobs=1,\n",
      "            oob_score=False, random_state=43, verbose=0, warm_start=False))\n",
      "Not in cache, training...\n",
      "[CV]  ................................................................\n",
      "[CV] ....................... , score=0.6138613861386139, total=   0.0s\n",
      "[CV]  ................................................................\n"
     ]
    },
    {
     "name": "stderr",
     "output_type": "stream",
     "text": [
      "[Parallel(n_jobs=1)]: Done   1 out of   1 | elapsed:    0.0s remaining:    0.0s\n",
      "[Parallel(n_jobs=1)]: Done   2 out of   2 | elapsed:    0.2s remaining:    0.0s\n"
     ]
    },
    {
     "name": "stdout",
     "output_type": "stream",
     "text": [
      "[CV] ....................... , score=0.6138613861386139, total=   0.0s\n",
      "[CV]  ................................................................\n",
      "[CV] ..................................... , score=0.61, total=   0.0s\n",
      "[CV]  ................................................................\n"
     ]
    },
    {
     "name": "stderr",
     "output_type": "stream",
     "text": [
      "[Parallel(n_jobs=1)]: Done   3 out of   3 | elapsed:    0.3s remaining:    0.0s\n",
      "[Parallel(n_jobs=1)]: Done   4 out of   4 | elapsed:    0.4s remaining:    0.0s\n",
      "[Parallel(n_jobs=1)]: Done   5 out of   5 | elapsed:    0.5s finished\n",
      "INFO:werkzeug:127.0.0.1 - - [10/Oct/2018 15:45:55] \"POST /train HTTP/1.1\" 200 -\n"
     ]
    },
    {
     "name": "stdout",
     "output_type": "stream",
     "text": [
      "[CV] ....................... , score=0.6161616161616161, total=   0.0s\n",
      "[CV]  ................................................................\n",
      "[CV] ....................... , score=0.6161616161616161, total=   0.0s\n",
      "{'status': 'ok', 'scores': '61.34477156367795,61.430593628610175,61.0347988291965,61.58768701202146,61.6076740742347', 'score_mean': 61.401105021548155, 'score_std': 0.2077050195224182, 'score_hmean': 61.400400592381985, 'notes': \"{'algorithm': 'Random Forest', 'rf__n_estimators': '5', 'rf__criterion': 'gini', 'rf__max_depth': '1', 'rf__min_samples_leaf': '1', 'rf__max_features': 'auto'}\", 'timestamp': '2018-10-10T15:45:55.959629+01:00', 'nickname': '- (15_45_55)', 'duration_secs': 0.658997, 'algorithm': 'Random Forest', 'app_version': '20181005-8', 'host': '894b6b96e69789f578ab719a1165c613'}\n",
      "b'{\"responder\": \"anonymous\", \"submitDate\": \"10/3/2018 9:21:44 AM\", \"rf71efaaee75f4869b3a24de441b09919\": \"Random Forest\", \"rd24bc7e764d34b1b83c8d3acf2a91203\": \"5\", \"re36df3b7827a41b38742ebab3a9d09d5\": \"gini\", \"r189c2542d50b491f8086f02963b7a081\": \"1\", \"rc9525cd279d14be38771f6f40e4316e4\": \"1\", \"rce0c88b0fb9248498ff46de546904f63\": \"auto\"}'\n",
      "{'algorithm': 'Random Forest', 'rf__n_estimators': '5', 'rf__criterion': 'gini', 'rf__max_depth': '1', 'rf__min_samples_leaf': '1', 'rf__max_features': 'auto'}\n",
      "train params {'algorithm': 'Random Forest', 'rf__n_estimators': '5', 'rf__criterion': 'gini', 'rf__max_depth': '1', 'rf__min_samples_leaf': '1', 'rf__max_features': 'auto'}\n",
      "[]\n",
      "('featurize',\n",
      " DataFrameMapper(default=False, df_out=True,\n",
      "        features=[(['PassengerId'], Imputer(axis=0, copy=True, missing_values='NaN', strategy='mean', verbose=0)), (['Pclass'], Imputer(axis=0, copy=True, missing_values='NaN', strategy='mean', verbose=0)), (['Age'], Imputer(axis=0, copy=True, missing_values='NaN', strategy='mean', verbose=0)), (['SibSp'], ...uter object at 0x000001AAF98EF6D8>, LabelBinarizer(neg_label=0, pos_label=1, sparse_output=False)])],\n",
      "        input_df=False, sparse=False))\n",
      "('rf',\n",
      " RandomForestClassifier(bootstrap=True, class_weight=None, criterion='gini',\n",
      "            max_depth=1, max_features='auto', max_leaf_nodes=None,\n",
      "            min_impurity_decrease=0.0, min_impurity_split=None,\n",
      "            min_samples_leaf=1, min_samples_split=2,\n",
      "            min_weight_fraction_leaf=0.0, n_estimators=5, n_jobs=1,\n",
      "            oob_score=False, random_state=43, verbose=0, warm_start=False))\n",
      "Not in cache, training...\n",
      "[CV]  ................................................................\n",
      "[CV] ....................... , score=0.6138613861386139, total=   0.0s\n",
      "[CV]  ................................................................\n"
     ]
    },
    {
     "name": "stderr",
     "output_type": "stream",
     "text": [
      "[Parallel(n_jobs=1)]: Done   1 out of   1 | elapsed:    0.0s remaining:    0.0s\n",
      "[Parallel(n_jobs=1)]: Done   2 out of   2 | elapsed:    0.1s remaining:    0.0s\n",
      "[Parallel(n_jobs=1)]: Done   3 out of   3 | elapsed:    0.2s remaining:    0.0s\n"
     ]
    },
    {
     "name": "stdout",
     "output_type": "stream",
     "text": [
      "[CV] ....................... , score=0.6138613861386139, total=   0.0s\n",
      "[CV]  ................................................................\n",
      "[CV] ..................................... , score=0.61, total=   0.0s\n",
      "[CV]  ................................................................\n",
      "[CV] ....................... , score=0.6161616161616161, total=   0.0s\n",
      "[CV]  ................................................................\n"
     ]
    },
    {
     "name": "stderr",
     "output_type": "stream",
     "text": [
      "[Parallel(n_jobs=1)]: Done   4 out of   4 | elapsed:    0.3s remaining:    0.0s\n",
      "[Parallel(n_jobs=1)]: Done   5 out of   5 | elapsed:    0.4s finished\n",
      "INFO:werkzeug:127.0.0.1 - - [10/Oct/2018 15:46:23] \"POST /train HTTP/1.1\" 200 -\n"
     ]
    },
    {
     "name": "stdout",
     "output_type": "stream",
     "text": [
      "[CV] ....................... , score=0.6161616161616161, total=   0.0s\n",
      "{'status': 'ok', 'scores': '61.37667165367228,61.39744031312173,60.98104678619406,61.660509762392074,61.68809614383142', 'score_mean': 61.42075293184231, 'score_std': 0.2548661855129008, 'score_hmean': 61.41969257141894, 'notes': \"{'algorithm': 'Random Forest', 'rf__n_estimators': '5', 'rf__criterion': 'gini', 'rf__max_depth': '1', 'rf__min_samples_leaf': '1', 'rf__max_features': 'auto'}\", 'timestamp': '2018-10-10T15:46:23.125369+01:00', 'nickname': '- (15_46_23)', 'duration_secs': 0.564011, 'algorithm': 'Random Forest', 'app_version': '20181005-8', 'host': '894b6b96e69789f578ab719a1165c613'}\n",
      "b'{\"responder\": \"anonymous\", \"submitDate\": \"10/3/2018 9:21:44 AM\", \"rf71efaaee75f4869b3a24de441b09919\": \"Random Forest\", \"rd24bc7e764d34b1b83c8d3acf2a91203\": \"5\", \"re36df3b7827a41b38742ebab3a9d09d5\": \"gini\", \"r189c2542d50b491f8086f02963b7a081\": \"1\", \"rc9525cd279d14be38771f6f40e4316e4\": \"1\", \"rce0c88b0fb9248498ff46de546904f63\": \"auto\"}'\n",
      "{'algorithm': 'Random Forest', 'rf__n_estimators': '5', 'rf__criterion': 'gini', 'rf__max_depth': '1', 'rf__min_samples_leaf': '1', 'rf__max_features': 'auto'}\n",
      "train params {'algorithm': 'Random Forest', 'rf__n_estimators': '5', 'rf__criterion': 'gini', 'rf__max_depth': '1', 'rf__min_samples_leaf': '1', 'rf__max_features': 'auto'}\n",
      "[]\n",
      "('featurize',\n",
      " DataFrameMapper(default=False, df_out=True,\n",
      "        features=[(['PassengerId'], Imputer(axis=0, copy=True, missing_values='NaN', strategy='mean', verbose=0)), (['Pclass'], Imputer(axis=0, copy=True, missing_values='NaN', strategy='mean', verbose=0)), (['Age'], Imputer(axis=0, copy=True, missing_values='NaN', strategy='mean', verbose=0)), (['SibSp'], ...uter object at 0x000001AAF9987978>, LabelBinarizer(neg_label=0, pos_label=1, sparse_output=False)])],\n",
      "        input_df=False, sparse=False))\n",
      "('rf',\n",
      " RandomForestClassifier(bootstrap=True, class_weight=None, criterion='gini',\n",
      "            max_depth=1, max_features='auto', max_leaf_nodes=None,\n",
      "            min_impurity_decrease=0.0, min_impurity_split=None,\n",
      "            min_samples_leaf=1, min_samples_split=2,\n",
      "            min_weight_fraction_leaf=0.0, n_estimators=5, n_jobs=1,\n",
      "            oob_score=False, random_state=43, verbose=0, warm_start=False))\n",
      "Not in cache, training...\n",
      "[CV]  ................................................................\n",
      "[CV] ....................... , score=0.6138613861386139, total=   0.0s\n",
      "[CV]  ................................................................\n"
     ]
    },
    {
     "name": "stderr",
     "output_type": "stream",
     "text": [
      "[Parallel(n_jobs=1)]: Done   1 out of   1 | elapsed:    0.0s remaining:    0.0s\n",
      "[Parallel(n_jobs=1)]: Done   2 out of   2 | elapsed:    0.1s remaining:    0.0s\n"
     ]
    },
    {
     "name": "stdout",
     "output_type": "stream",
     "text": [
      "[CV] ....................... , score=0.6138613861386139, total=   0.0s\n",
      "[CV]  ................................................................\n",
      "[CV] ..................................... , score=0.61, total=   0.0s\n",
      "[CV]  ................................................................\n"
     ]
    },
    {
     "name": "stderr",
     "output_type": "stream",
     "text": [
      "[Parallel(n_jobs=1)]: Done   3 out of   3 | elapsed:    0.2s remaining:    0.0s\n",
      "[Parallel(n_jobs=1)]: Done   4 out of   4 | elapsed:    0.4s remaining:    0.0s\n",
      "[Parallel(n_jobs=1)]: Done   5 out of   5 | elapsed:    0.5s finished\n",
      "INFO:werkzeug:127.0.0.1 - - [10/Oct/2018 15:46:26] \"POST /train HTTP/1.1\" 200 -\n"
     ]
    },
    {
     "name": "stdout",
     "output_type": "stream",
     "text": [
      "[CV] ....................... , score=0.6161616161616161, total=   0.0s\n",
      "[CV]  ................................................................\n",
      "[CV] ....................... , score=0.6161616161616161, total=   0.0s\n",
      "{'status': 'ok', 'scores': '61.39183024385446,61.401674027729875,61.01414144252807,61.54358835913396,61.68130365676106', 'score_mean': 61.40650754600149, 'score_std': 0.22293227539759977, 'score_hmean': 61.405696223173194, 'notes': \"{'algorithm': 'Random Forest', 'rf__n_estimators': '5', 'rf__criterion': 'gini', 'rf__max_depth': '1', 'rf__min_samples_leaf': '1', 'rf__max_features': 'auto'}\", 'timestamp': '2018-10-10T15:46:26.452368+01:00', 'nickname': '- (15_46_26)', 'duration_secs': 0.612002, 'algorithm': 'Random Forest', 'app_version': '20181005-8', 'host': '894b6b96e69789f578ab719a1165c613'}\n"
     ]
    }
   ],
   "source": [
    "if __name__ == '__main__':\n",
    "    from werkzeug.serving import run_simple\n",
    "    run_simple('localhost', 9001, app)"
   ]
  }
 ],
 "metadata": {
  "hide_input": false,
  "kernelspec": {
   "display_name": "Python 3",
   "language": "python",
   "name": "python3"
  },
  "language_info": {
   "codemirror_mode": {
    "name": "ipython",
    "version": 3
   },
   "file_extension": ".py",
   "mimetype": "text/x-python",
   "name": "python",
   "nbconvert_exporter": "python",
   "pygments_lexer": "ipython3",
   "version": "3.6.3"
  },
  "toc": {
   "base_numbering": 1,
   "nav_menu": {},
   "number_sections": true,
   "sideBar": true,
   "skip_h1_title": false,
   "title_cell": "Table of Contents",
   "title_sidebar": "Contents",
   "toc_cell": false,
   "toc_position": {},
   "toc_section_display": true,
   "toc_window_display": false
  },
  "varInspector": {
   "cols": {
    "lenName": 16,
    "lenType": 16,
    "lenVar": 40
   },
   "kernels_config": {
    "python": {
     "delete_cmd_postfix": "",
     "delete_cmd_prefix": "del ",
     "library": "var_list.py",
     "varRefreshCmd": "print(var_dic_list())"
    },
    "r": {
     "delete_cmd_postfix": ") ",
     "delete_cmd_prefix": "rm(",
     "library": "var_list.r",
     "varRefreshCmd": "cat(var_dic_list()) "
    }
   },
   "types_to_exclude": [
    "module",
    "function",
    "builtin_function_or_method",
    "instance",
    "_Feature"
   ],
   "window_display": false
  }
 },
 "nbformat": 4,
 "nbformat_minor": 2
}
