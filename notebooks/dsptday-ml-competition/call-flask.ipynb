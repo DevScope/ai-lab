{
 "cells": [
  {
   "cell_type": "code",
   "execution_count": 1,
   "metadata": {
    "ExecuteTime": {
     "end_time": "2018-10-10T14:40:34.558004Z",
     "start_time": "2018-10-10T14:40:32.711009Z"
    }
   },
   "outputs": [],
   "source": [
    "%load_ext autoreload\n",
    "%autoreload 2\n",
    "%matplotlib inline"
   ]
  },
  {
   "cell_type": "code",
   "execution_count": 2,
   "metadata": {
    "ExecuteTime": {
     "end_time": "2018-10-10T14:40:37.036008Z",
     "start_time": "2018-10-10T14:40:35.443008Z"
    }
   },
   "outputs": [
    {
     "name": "stdout",
     "output_type": "stream",
     "text": [
      "Loading ailab...\n"
     ]
    }
   ],
   "source": [
    "import sklearn\n",
    "import sklearn_pandas\n",
    "import pandas as pd\n",
    "import ailab\n",
    "import requests\n"
   ]
  },
  {
   "cell_type": "code",
   "execution_count": 13,
   "metadata": {
    "ExecuteTime": {
     "end_time": "2018-10-10T14:45:46.750371Z",
     "start_time": "2018-10-10T14:45:46.504377Z"
    },
    "collapsed": true
   },
   "outputs": [],
   "source": [
    "import json\n",
    "\n",
    "# Example request sent from Msft forms through Logic App (Full Body from get response details)\n",
    "json_request=\"\"\"\n",
    "    {\"responder\":\"anonymous\",\"submitDate\":\"10/3/2018 9:21:44 AM\",\n",
    "    \"rf71efaaee75f4869b3a24de441b09919\":\"Random Forest\",\n",
    "    \"rd24bc7e764d34b1b83c8d3acf2a91203\":\"5\",\n",
    "    \"re36df3b7827a41b38742ebab3a9d09d5\":\"gini\",\n",
    "    \"r189c2542d50b491f8086f02963b7a081\":\"1\",\n",
    "    \"rc9525cd279d14be38771f6f40e4316e4\":\"1\",\n",
    "    \"rce0c88b0fb9248498ff46de546904f63\":\"auto\"}\n",
    "\"\"\"\n",
    "\n",
    "json_data=json.loads(json_request)"
   ]
  },
  {
   "cell_type": "code",
   "execution_count": 16,
   "metadata": {
    "ExecuteTime": {
     "end_time": "2018-10-10T14:46:26.461363Z",
     "start_time": "2018-10-10T14:46:24.586363Z"
    }
   },
   "outputs": [
    {
     "name": "stdout",
     "output_type": "stream",
     "text": [
      "200\n",
      "639\n",
      "{'algorithm': 'Random Forest', 'app_version': '20181005-8', 'duration_secs': 0.612002, 'host': '894b6b96e69789f578ab719a1165c613', 'nickname': '- (15_46_26)', 'notes': \"{'algorithm': 'Random Forest', 'rf__n_estimators': '5', 'rf__criterion': 'gini', 'rf__max_depth': '1', 'rf__min_samples_leaf': '1', 'rf__max_features': 'auto'}\", 'score_hmean': 61.405696223173194, 'score_mean': 61.40650754600149, 'score_std': 0.22293227539759977, 'scores': '61.39183024385446,61.401674027729875,61.01414144252807,61.54358835913396,61.68130365676106', 'status': 'ok', 'timestamp': '2018-10-10T15:46:26.452368+01:00'}\n",
      "Wall time: 1.63 s\n"
     ]
    }
   ],
   "source": [
    "%%time\n",
    "url=\"http://localhost:9001\"\n",
    "\n",
    "header = {'Content-Type': 'application/json','Accept': 'application/json'}\n",
    "\n",
    "resp = requests.post(f\"{url}/train\",\n",
    "                    data = json.dumps(json_data),\n",
    "                    headers= header)\n",
    "\n",
    "print(resp.status_code)\n",
    "print(len(resp.content))\n",
    "\n",
    "print(resp.json())\n"
   ]
  },
  {
   "cell_type": "code",
   "execution_count": null,
   "metadata": {
    "collapsed": true
   },
   "outputs": [],
   "source": []
  }
 ],
 "metadata": {
  "hide_input": false,
  "kernelspec": {
   "display_name": "Python 3",
   "language": "python",
   "name": "python3"
  },
  "language_info": {
   "codemirror_mode": {
    "name": "ipython",
    "version": 3
   },
   "file_extension": ".py",
   "mimetype": "text/x-python",
   "name": "python",
   "nbconvert_exporter": "python",
   "pygments_lexer": "ipython3",
   "version": "3.6.3"
  },
  "toc": {
   "base_numbering": 1,
   "nav_menu": {},
   "number_sections": true,
   "sideBar": true,
   "skip_h1_title": false,
   "title_cell": "Table of Contents",
   "title_sidebar": "Contents",
   "toc_cell": false,
   "toc_position": {},
   "toc_section_display": true,
   "toc_window_display": false
  },
  "varInspector": {
   "cols": {
    "lenName": 16,
    "lenType": 16,
    "lenVar": 40
   },
   "kernels_config": {
    "python": {
     "delete_cmd_postfix": "",
     "delete_cmd_prefix": "del ",
     "library": "var_list.py",
     "varRefreshCmd": "print(var_dic_list())"
    },
    "r": {
     "delete_cmd_postfix": ") ",
     "delete_cmd_prefix": "rm(",
     "library": "var_list.r",
     "varRefreshCmd": "cat(var_dic_list()) "
    }
   },
   "types_to_exclude": [
    "module",
    "function",
    "builtin_function_or_method",
    "instance",
    "_Feature"
   ],
   "window_display": false
  }
 },
 "nbformat": 4,
 "nbformat_minor": 2
}
