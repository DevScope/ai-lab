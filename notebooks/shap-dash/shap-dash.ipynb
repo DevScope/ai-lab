{
 "cells": [
  {
   "cell_type": "code",
   "execution_count": null,
   "metadata": {
    "ExecuteTime": {
     "end_time": "2019-12-16T15:48:10.671651Z",
     "start_time": "2019-12-16T15:48:10.558608Z"
    }
   },
   "outputs": [],
   "source": [
    "%load_ext autoreload\n",
    "%autoreload 2"
   ]
  },
  {
   "cell_type": "markdown",
   "metadata": {},
   "source": [
    "# AI Lab tools/utils"
   ]
  },
  {
   "cell_type": "code",
   "execution_count": null,
   "metadata": {
    "ExecuteTime": {
     "end_time": "2019-12-16T15:48:10.972651Z",
     "start_time": "2019-12-16T15:48:10.921650Z"
    }
   },
   "outputs": [],
   "source": [
    "import ailab as lab"
   ]
  },
  {
   "cell_type": "markdown",
   "metadata": {},
   "source": [
    "# References\n",
    "\n",
    "###  For more info on SHAP (SHapley Additive exPlanations) see\n",
    "\n",
    "- https://github.com/slundberg/shap\n",
    "- http://papers.nips.cc/paper/7062-a-unified-approach-to-interpreting-model-predictions\n",
    "- https://christophm.github.io/interpretable-ml-book/shapley.html\n",
    "\n",
    "### More about Plotly Dash\n",
    "\n",
    "- https://dash.plot.ly/"
   ]
  },
  {
   "cell_type": "markdown",
   "metadata": {},
   "source": [
    "# Read Data"
   ]
  },
  {
   "cell_type": "code",
   "execution_count": null,
   "metadata": {
    "ExecuteTime": {
     "end_time": "2018-08-24T22:27:37.260069Z",
     "start_time": "2018-08-24T22:27:37.031074Z"
    }
   },
   "outputs": [],
   "source": [
    "import pandas as pd\n",
    "\n",
    "feature_names=[\"Age\", \"Workclass\", \"Final Weight\", \"Education\", \"Education-Num\", \"Marital Status\",\n",
    "               \"Occupation\", \"Relationship\", \"Race\", \"Sex\", \"Capital Gain\", \"Capital Loss\",\n",
    "               \"Hours per week\", \"Country\", \"Income\"]\n",
    "\n",
    "df_train=pd.read_csv(\"../../data/adult.data\",\n",
    "                     names=feature_names)\n",
    "\n",
    "df_test=pd.read_csv(\"../../data/adult.test\",\n",
    "                    skiprows =1,\n",
    "                    names=feature_names)\n",
    "\n"
   ]
  },
  {
   "cell_type": "markdown",
   "metadata": {},
   "source": [
    "# Data prep & problem definition"
   ]
  },
  {
   "cell_type": "code",
   "execution_count": null,
   "metadata": {
    "ExecuteTime": {
     "end_time": "2018-08-24T22:27:38.897070Z",
     "start_time": "2018-08-24T22:27:38.815075Z"
    }
   },
   "outputs": [],
   "source": [
    "def df_prep(df):    \n",
    "    LABEL=\"Income\"\n",
    "    y_train=df[LABEL].replace([\" <=50K\",\" <=50K.\",\" >50K\",\" >50K.\"],[0,0,1,1])\n",
    "    df_X=df.drop(LABEL, axis=1)\n",
    "    return df_X,y_train\n",
    "\n",
    "df_X_train,y_train=df_prep(df_train)\n",
    "df_X_test,y_test=df_prep(df_test)"
   ]
  },
  {
   "cell_type": "markdown",
   "metadata": {},
   "source": [
    "# Load trained model"
   ]
  },
  {
   "cell_type": "markdown",
   "metadata": {},
   "source": [
    "## Load with joblib"
   ]
  },
  {
   "cell_type": "code",
   "execution_count": null,
   "metadata": {
    "ExecuteTime": {
     "end_time": "2018-08-24T22:27:46.783062Z",
     "start_time": "2018-08-24T22:27:45.765068Z"
    }
   },
   "outputs": [],
   "source": [
    "import os\n",
    "import joblib\n",
    "\n",
    "def load_model(model_id):\n",
    "    \n",
    "    load_path=f\"../../models/{model_id}.pickle\"\n",
    "    return joblib.load(load_path)\n",
    "   \n",
    "model=load_model(\"adult_randomforest\")\n",
    "model\n"
   ]
  },
  {
   "cell_type": "markdown",
   "metadata": {},
   "source": [
    "## Check model is working!"
   ]
  },
  {
   "cell_type": "code",
   "execution_count": null,
   "metadata": {
    "ExecuteTime": {
     "end_time": "2018-08-24T22:27:48.840045Z",
     "start_time": "2018-08-24T22:27:47.897051Z"
    }
   },
   "outputs": [],
   "source": [
    "from sklearn.metrics import roc_curve, auc\n",
    "\n",
    "y_score = model.predict_proba(df_test)[:,1]\n",
    "fpr, tpr, _ = roc_curve(y_test,y_score)\n",
    "roc_auc= auc(fpr, tpr)\n",
    "print(\"roc_auc\",roc_auc)\n",
    "\n",
    "assert roc_auc>=.85,\"something is wrong, check that score, auc<.8\""
   ]
  },
  {
   "cell_type": "markdown",
   "metadata": {},
   "source": [
    "# Calculate Shapley values"
   ]
  },
  {
   "cell_type": "markdown",
   "metadata": {},
   "source": [
    "## Get transformed feature values/matrix"
   ]
  },
  {
   "cell_type": "code",
   "execution_count": null,
   "metadata": {
    "ExecuteTime": {
     "end_time": "2018-08-24T22:27:49.647574Z",
     "start_time": "2018-08-24T22:27:49.406569Z"
    }
   },
   "outputs": [],
   "source": [
    "import sklearn\n",
    "from copy import deepcopy\n",
    "\n",
    "# Split pipeline & classifier, allowing Shap to use fast tree method\n",
    "# *Work in progress* - could we bypass this? Let me know!\n",
    "\n",
    "model_prep=deepcopy(model)\n",
    "model_clf=model_prep.steps.pop()[1]\n",
    "\n",
    "# Using 100 rows, just for quick testing\n",
    "# more rows add more detail to shap explanations\n",
    "SAMPLE_ROWS=100\n",
    "\n",
    "df_explanation=df_test.sample(SAMPLE_ROWS)\n",
    "\n",
    "# Get transformed set from raw data (shap will need it instead of raw data)\n",
    "X_explanation_rows=model_prep.transform(df_explanation)\n",
    "X_explanation_rows\n"
   ]
  },
  {
   "cell_type": "code",
   "execution_count": null,
   "metadata": {
    "ExecuteTime": {
     "end_time": "2018-08-24T22:28:03.032626Z",
     "start_time": "2018-08-24T22:27:49.650574Z"
    }
   },
   "outputs": [],
   "source": [
    "import shap\n",
    "\n",
    "feature_names=X_explanation_rows.columns.values\n",
    "\n",
    "# use fast shapley tree explainer\n",
    "shap_explainer=shap.TreeExplainer(model_clf)\n",
    "shap_values = shap_explainer.shap_values(X_explanation_rows)\n",
    "\n",
    "# Use [1] (true label is in index 1, get that)\n",
    "shap_values=shap_values[1]\n",
    "\n",
    "# can take a while depending on cores/proc speed\n",
    "# 100 rows on i5 laptop, for this dataset, ~ 10 secs"
   ]
  },
  {
   "cell_type": "markdown",
   "metadata": {},
   "source": [
    "# Data prep for explanations & Dash"
   ]
  },
  {
   "cell_type": "code",
   "execution_count": null,
   "metadata": {
    "ExecuteTime": {
     "end_time": "2018-08-24T22:28:03.808629Z",
     "start_time": "2018-08-24T22:28:03.037627Z"
    }
   },
   "outputs": [],
   "source": [
    "# Some columns that help on table sorting, filtering, etc\n",
    "\n",
    "df_explanation[\"SCORE_PROB\"]=model_clf.predict_proba(X_explanation_rows)[:,1]\n",
    "\n",
    "# Use baseline probability from shap_explainer to create ratio to base rate\n",
    "df_explanation[\"SCORE_RATIO\"]=df_explanation.SCORE_PROB/shap_explainer.expected_value[1]\n",
    "\n",
    "# Just because...\n",
    "df_explanation[[\"SCORE_PROB\",\"SCORE_RATIO\"]]=df_explanation[[\"SCORE_PROB\",\"SCORE_RATIO\"]].round(2)\n",
    "df_explanation\n"
   ]
  },
  {
   "cell_type": "code",
   "execution_count": null,
   "metadata": {
    "ExecuteTime": {
     "end_time": "2018-08-24T22:28:04.377627Z",
     "start_time": "2018-08-24T22:28:03.812635Z"
    }
   },
   "outputs": [],
   "source": [
    "# Cast calculated shap values as dataframe, to use index based getters later on\n",
    "df_shap_values=pd.DataFrame(shap_values,columns=feature_names)\n",
    "df_shap_values.index=X_explanation_rows.index\n",
    "\n",
    "# Add top N positive/negative features to each row (this allows table search, which is cool) \n",
    "N=5\n",
    "\n",
    "topN=df_shap_values.apply(lambda s: \",\".join(s.nlargest(N).index.tolist()), axis=1)\n",
    "bottomN=df_shap_values.apply(lambda s: \",\".join(s.nsmallest(N).index.tolist()), axis=1)\n",
    "\n",
    "df_explanation[\"TOP_POS\"]=topN.values\n",
    "df_explanation[\"TOP_NEG\"]=bottomN.values\n",
    "\n",
    "df_explanation"
   ]
  },
  {
   "cell_type": "markdown",
   "metadata": {},
   "source": [
    "## Let's check! local reason codes"
   ]
  },
  {
   "cell_type": "code",
   "execution_count": null,
   "metadata": {
    "ExecuteTime": {
     "end_time": "2018-08-24T22:28:05.447629Z",
     "start_time": "2018-08-24T22:28:04.382628Z"
    }
   },
   "outputs": [],
   "source": [
    "# Check shapley values (first row)\n",
    "index=df_shap_values.index[0]\n",
    "from IPython.display import display\n",
    "\n",
    "pd.set_option('display.max_colwidth', 200)\n",
    "display(df_explanation[[\"TOP_POS\",\"TOP_NEG\"]].loc[[index]].T)\n",
    "\n",
    "shap.summary_plot(df_shap_values.loc[[index]].values,\n",
    "                  X_explanation_rows.loc[[index]].values,\n",
    "                  feature_names=feature_names)\n",
    "\n"
   ]
  },
  {
   "cell_type": "markdown",
   "metadata": {
    "ExecuteTime": {
     "end_time": "2018-08-23T21:55:27.565608Z",
     "start_time": "2018-08-23T21:55:27.560629Z"
    }
   },
   "source": [
    "## Global Shapley importances"
   ]
  },
  {
   "cell_type": "code",
   "execution_count": null,
   "metadata": {
    "ExecuteTime": {
     "end_time": "2018-08-24T22:28:06.555630Z",
     "start_time": "2018-08-24T22:28:05.452628Z"
    }
   },
   "outputs": [],
   "source": [
    "shap.summary_plot(df_shap_values.values, X_explanation_rows,feature_names=feature_names)"
   ]
  },
  {
   "cell_type": "markdown",
   "metadata": {},
   "source": [
    "# Prepare dataframe for Dash"
   ]
  },
  {
   "cell_type": "code",
   "execution_count": null,
   "metadata": {
    "ExecuteTime": {
     "end_time": "2018-08-24T22:28:06.758624Z",
     "start_time": "2018-08-24T22:28:06.559629Z"
    }
   },
   "outputs": [],
   "source": [
    "# Add index, we'll use it on dash back & forward (hidden)\n",
    "df_explanation[\"index\"]=df_explanation.index.values\n",
    "df_explanation"
   ]
  },
  {
   "cell_type": "markdown",
   "metadata": {},
   "source": [
    "# Dash "
   ]
  },
  {
   "cell_type": "code",
   "execution_count": null,
   "metadata": {
    "ExecuteTime": {
     "end_time": "2018-08-24T22:28:08.018628Z",
     "start_time": "2018-08-24T22:28:06.781624Z"
    }
   },
   "outputs": [],
   "source": [
    "import sklearn.metrics as metrics\n",
    "import plotly.graph_objs as go\n",
    "\n",
    "def shap_local_importances(row_index,max_features=10):\n",
    "    X_shap=X_explanation_rows.loc[[row_index],:]\n",
    "    \n",
    "    shap_values=df_shap_values.loc[[row_index]].values\n",
    "    \n",
    "    index=0\n",
    "\n",
    "    # Create more friendly X axis, like feature=<feature value for that record>\n",
    "    feature_names=X_shap.columns+\"=\"+X_shap.iloc[[index],:].T.iloc[:,0].values.round(4).astype(\"str\")\n",
    "    \n",
    "    df_row_shap=pd.DataFrame(shap_values[0,:],feature_names).reset_index()\n",
    "    df_row_shap.columns=[\"feature\",\"shapley\"]\n",
    "    df_row_shap[\"custom_data\"]=X_shap.columns+\"|\"+str(row_index)\n",
    "    df_row_shap[\"abs_shapley\"]=df_row_shap.shapley.abs()\n",
    "    df_row_shap.sort_values(\"abs_shapley\",ascending=False,inplace=True)\n",
    "    \n",
    "    # Need to check plotly how to reverse axis, hacking for now, sorry!\n",
    "    df_top_features=df_row_shap.head(max_features).sort_values(\"abs_shapley\",ascending=True)\n",
    "    \n",
    "    figure={\n",
    "            'data': [\n",
    "                {\n",
    "                    'x':  df_top_features.shapley.values,\n",
    "                    'y': df_top_features.feature.values,\n",
    "                    'customdata': df_top_features.custom_data.values,\n",
    "                    'name': 'Local reason codes',\n",
    "                    'mode': 'markers',\n",
    "                    'marker': {'size': 10}\n",
    "                }\n",
    "            ],\n",
    "            'layout':{\n",
    "                \"autosize\":False,\n",
    "                    \"width\":370,\n",
    "                    \"height\":450,\n",
    "                    \"margin\":go.Margin(\n",
    "                        l=150,\n",
    "                        r=50,\n",
    "                        b=40,\n",
    "                        t=0,\n",
    "                      #  pad=50\n",
    "                  ),\n",
    "            }\n",
    "        }\n",
    "        \n",
    "    figure = go.Figure(figure)\n",
    "        \n",
    "    return figure\n",
    "\n",
    "# Test\n",
    "shap_local_importances(X_explanation_rows.index[0])"
   ]
  },
  {
   "cell_type": "code",
   "execution_count": null,
   "metadata": {
    "ExecuteTime": {
     "end_time": "2018-08-24T22:28:08.093625Z",
     "start_time": "2018-08-24T22:28:08.024629Z"
    }
   },
   "outputs": [],
   "source": [
    "import sklearn.metrics as metrics\n",
    "import plotly.graph_objs as go\n",
    "\n",
    "def shap_detail(row_index,feature):\n",
    "    feature_shapley_values = df_shap_values[feature].values\n",
    "    feature_values = X_explanation_rows[feature].values\n",
    "    \n",
    "    #friendly title feature=<feature value for that row>\n",
    "    title=\"{0}={1}\".format(feature,X_explanation_rows.loc[row_index][feature])\n",
    "    \n",
    "    figure={\n",
    "            # All data points here\n",
    "            'data': [\n",
    "\n",
    "                {\n",
    "                    'x':  feature_values,\n",
    "                    'y': feature_shapley_values,\n",
    "                    'name': 'Trace 1',\n",
    "                    'mode': 'markers',\n",
    "                    'marker': {'size': 5}\n",
    "                },\n",
    "                \n",
    "                \n",
    "            ],\n",
    "            # Add annotation to highlight current feature value & position\n",
    "            'layout':{\n",
    "                \"annotations\":[\n",
    "                        dict(\n",
    "                            x=X_explanation_rows.loc[row_index][feature],\n",
    "                            y=df_shap_values.loc[row_index][feature],\n",
    "                            xref='x',\n",
    "                            yref='y',\n",
    "                            text=title,\n",
    "                            showarrow=True,\n",
    "                            arrowhead=7,\n",
    "                            ax=0,\n",
    "                            ay=-40,\n",
    "                            bgcolor=\"red\"\n",
    "                        )\n",
    "                    ],\n",
    "                 #\"title\":title,\n",
    "                \"autosize\":False,\n",
    "                    \"width\":250,\n",
    "                    \"height\":420,\n",
    "                    \"margin\":go.Margin(\n",
    "                        l=20,\n",
    "                        r=10,\n",
    "                        b=80,\n",
    "                        t=20,\n",
    "                        pad=60\n",
    "                  ),\n",
    "            },\n",
    "            \n",
    "        }\n",
    "        \n",
    "    figure = go.Figure(figure)\n",
    "        \n",
    "    return figure\n",
    "\n",
    "# Test\n",
    "shap_detail(X_explanation_rows.index[0],\"Age\")"
   ]
  },
  {
   "cell_type": "code",
   "execution_count": null,
   "metadata": {
    "ExecuteTime": {
     "end_time": "2018-08-24T22:28:09.000619Z",
     "start_time": "2018-08-24T22:28:08.099627Z"
    }
   },
   "outputs": [],
   "source": [
    "import dash\n",
    "from dash.dependencies import Input, Output, State\n",
    "import dash_core_components as dcc\n",
    "import dash_html_components as html\n",
    "import dash_table_experiments as dt\n",
    "import plotly\n",
    "\n",
    "\n",
    "APP_NAME='SHAP Dash! Explanations on Dash - DevScope AI Lab'\n",
    "app = dash.Dash(name=APP_NAME)\n",
    "\n",
    "# Need this because we'll add some dynamic callbacks\n",
    "app.config['suppress_callback_exceptions'] = True\n",
    "\n",
    "# Hide index column\n",
    "visible_cols=df_explanation.columns.drop([\"index\"]).values\n",
    "\n",
    "# Reference: https://github.com/plotly/dash-svm/\n",
    "external_css = [\n",
    "    # Normalize the CSS\n",
    "    \"https://cdnjs.cloudflare.com/ajax/libs/normalize/7.0.0/normalize.min.css\",\n",
    "    # Fonts\n",
    "    \"https://fonts.googleapis.com/css?family=Open+Sans|Roboto\",\n",
    "    \"https://maxcdn.bootstrapcdn.com/font-awesome/4.7.0/css/font-awesome.min.css\",\n",
    "    # Base Stylesheet, replace this with your own base-styles.css using Rawgit\n",
    "    \"https://rawgit.com/xhlulu/9a6e89f418ee40d02b637a429a876aa9/raw/f3ea10d53e33ece67eb681025cedc83870c9938d/base-styles.css\",\n",
    "    # Custom Stylesheet, replace this with your own custom-styles.css using Rawgit\n",
    "    \"https://cdn.rawgit.com/plotly/dash-svm/bb031580/custom-styles.css\"\n",
    "    #\"https://gist.githubusercontent.com/rquintino/f67a1e9f2c13b9b3e0dae35ac6477295/raw/aa6d5c068882584ab2a019c510c32df80fd8c352/shap-dash-custom-styles.css\"\n",
    "]\n",
    "\n",
    "for css in external_css:\n",
    "    app.css.append_css({\"external_url\": css})\n",
    "    \n",
    "    \n",
    "app.layout = html.Div([\n",
    "    # Reference: https://github.com/plotly/dash-svm/\n",
    "    # .container class is fixed, .container.scalable is scalable\n",
    "    html.Div(className=\"banner\", children=[\n",
    "        html.Div(className='container scalable', children=[\n",
    "            html.H2(html.A(\n",
    "                APP_NAME,\n",
    "                href='https://github.com/DevScope/ai-lab',\n",
    "                style={\n",
    "                    'text-decoration': 'none',\n",
    "                    'color': 'inherit'\n",
    "                }\n",
    "            )),\n",
    "\n",
    "            html.A(\n",
    "                html.Img(src=\"https://s3-us-west-1.amazonaws.com/plotly-tutorials/logo/new-branding/dash-logo-by-plotly-stripe-inverted.png\"),\n",
    "                href='https://plot.ly/products/dash/'\n",
    "            )\n",
    "        ]),\n",
    "    ]),\n",
    "    html.Div(id='body', className='container scalable', children=[\n",
    "         html.Div([\n",
    "            html.Div(\n",
    "                [\n",
    "                    dt.DataTable(\n",
    "                        rows=df_explanation.to_dict('records'),\n",
    "                        editable=False,\n",
    "                        sortable=True,\n",
    "                        columns=visible_cols,\n",
    "                        row_selectable=True,\n",
    "                        filterable=True,\n",
    "                        id='score_table'\n",
    "                        ),\n",
    "                    html.Button('Explain', id='explain'),\n",
    "                    html.Button('Clear', id='clear'),\n",
    "                ],className=\"five columns\"),\n",
    "             html.Div(\n",
    "                 [\n",
    "                        html.Div(id=\"output\",children=[\n",
    "                            # Needed to add this blank chart on startup, otherwise charts wouldnt load?\n",
    "                            # Dash tables have similar issue\n",
    "                            dcc.Graph(\n",
    "                                id='example-graph',\n",
    "                                figure={'data': [], 'layout': { }\n",
    "                            }\n",
    "                        ),\n",
    "                        ],style={\"padding\":\"20px\"})\n",
    "                   ],id=\"results\",className=\"seven columns\",style={'height':'500px','overflow-y': 'scroll'})\n",
    "        ],className=\"row\")\n",
    "     ])\n",
    "])\n",
    "\n",
    "@app.callback(\n",
    "   Output('score_table', 'selected_row_indices'),\n",
    "   [Input(\"clear\",\"n_clicks\")])\n",
    "def click_clear(n_clicks):\n",
    "    return []\n",
    "\n",
    "@app.callback(\n",
    "   Output('output', 'children'),\n",
    "   [Input(\"explain\",\"n_clicks\")],\n",
    "    state=[\n",
    "        State('score_table', 'rows'),\n",
    "        State('score_table', 'selected_row_indices')\n",
    "    ])\n",
    "def explain_selected_rows(n_clicks,rows,selected_row_indices):\n",
    "    # note: currently, the only way I know to get selected indexes\n",
    "    # we have to send whole table back from browser to python kernel...\n",
    "    # new table component is expected this summer by plotly team!\n",
    "    # https://github.com/plotly/dash-table-experiments/issues/15\n",
    "    if not rows or len(rows)==0 or not selected_row_indices or len(selected_row_indices)==0:\n",
    "        return []\n",
    "    \n",
    "    selected_row_indices.sort()\n",
    "    \n",
    "    # Reconstruct dataframe with original indexes\n",
    "    df_rows = pd.DataFrame(rows)\n",
    "    df_rows.index=df_rows[\"index\"]\n",
    "    \n",
    "    indexes=df_rows.iloc[selected_row_indices].index\n",
    "    \n",
    "    # Check selectd rows on notebook (debug)\n",
    "    #display(df_rows.loc[indexes])\n",
    "    \n",
    "    children=[]\n",
    "    \n",
    "    MAX_FEATURES=12\n",
    "    \n",
    "    i=0\n",
    "    for index in indexes:\n",
    "        i=i+1\n",
    "        original_index=int(index)\n",
    "        \n",
    "        original_row=df_explanation.loc[[original_index]]\n",
    "        X_original_row=X_explanation_rows.loc[[original_index]]\n",
    "        \n",
    "        title=\" Age {0} (#)\".format(\n",
    "                             original_row.Age.iloc[0],\n",
    "                             i+1\n",
    "                            )\n",
    "        \n",
    "        score=\"{0:.2%} Probability\".format(\n",
    "                             original_row.SCORE_PROB.iloc[0]\n",
    "                            )\n",
    "        \n",
    "        children.append(html.Div([html.H6(title,className=\"six columns\"),\n",
    "                                 html.H6(score,className=\"six columns\",style={\"text-align\":\"right\"})\n",
    "                                 ],className=\"row\"))\n",
    "        \n",
    "        fig_shap=shap_local_importances(original_index,MAX_FEATURES)  \n",
    "        \n",
    "        children.append(html.Div([dcc.Graph(id='summary_'+str(i),figure=fig_shap,\n",
    "                                            className=\"six columns\",\n",
    "                                            config={ 'displayModeBar': False}),\n",
    "                                 html.Div(id=\"detail_\"+str(i),className=\"six columns\")\n",
    "                                 ],className=\"row\"))\n",
    "    return children\n",
    "\n",
    "# Ok... more than 100 and this won't work, have to dig deeper...\n",
    "for i in range(100):    \n",
    "    @app.callback(\n",
    "        Output('detail_'+str(i), 'children'),\n",
    "        [Input('summary_'+str(i), 'clickData')])\n",
    "    def detail(clickData):\n",
    "        if not clickData or len(clickData)==0:\n",
    "            return []\n",
    "        \n",
    "        children=[]\n",
    "        \n",
    "        # Grab feature and row index from customdata, better way? let me know please.\n",
    "        point=clickData[\"points\"][0]\n",
    "        \n",
    "        feature,row_index=point[\"customdata\"].split(\"|\")\n",
    "        row_index=int(row_index)\n",
    "                                                        \n",
    "        fig_shap=shap_detail(row_index,feature)  \n",
    "        \n",
    "        children.append(dcc.Graph(id='detail_chart_'+str(row_index),figure=fig_shap,\n",
    "                                 config={ 'displayModeBar': False}))\n",
    "        \n",
    "        return children\n",
    "\n"
   ]
  },
  {
   "cell_type": "code",
   "execution_count": null,
   "metadata": {
    "ExecuteTime": {
     "end_time": "2018-08-24T22:28:34.110983Z",
     "start_time": "2018-08-24T22:28:09.004622Z"
    }
   },
   "outputs": [],
   "source": [
    "# use <esc> i+i on Jupyter to quick interrupt & get control back to jupyter\n",
    "lab.show_app(app)\n"
   ]
  },
  {
   "cell_type": "code",
   "execution_count": null,
   "metadata": {},
   "outputs": [],
   "source": []
  }
 ],
 "metadata": {
  "hide_input": false,
  "kernelspec": {
   "display_name": "Python [conda env:root] *",
   "language": "python",
   "name": "conda-root-py"
  },
  "toc": {
   "base_numbering": 1,
   "nav_menu": {},
   "number_sections": true,
   "sideBar": true,
   "skip_h1_title": false,
   "title_cell": "Table of Contents",
   "title_sidebar": "Contents",
   "toc_cell": false,
   "toc_position": {
    "height": "calc(100% - 180px)",
    "left": "10px",
    "top": "150px",
    "width": "273px"
   },
   "toc_section_display": true,
   "toc_window_display": true
  },
  "varInspector": {
   "cols": {
    "lenName": 16,
    "lenType": 16,
    "lenVar": 40
   },
   "kernels_config": {
    "python": {
     "delete_cmd_postfix": "",
     "delete_cmd_prefix": "del ",
     "library": "var_list.py",
     "varRefreshCmd": "print(var_dic_list())"
    },
    "r": {
     "delete_cmd_postfix": ") ",
     "delete_cmd_prefix": "rm(",
     "library": "var_list.r",
     "varRefreshCmd": "cat(var_dic_list()) "
    }
   },
   "types_to_exclude": [
    "module",
    "function",
    "builtin_function_or_method",
    "instance",
    "_Feature"
   ],
   "window_display": false
  }
 },
 "nbformat": 4,
 "nbformat_minor": 2
}
