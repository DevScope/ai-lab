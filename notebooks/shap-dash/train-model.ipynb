{
 "cells": [
  {
   "cell_type": "markdown",
   "metadata": {},
   "source": [
    "# Read Data"
   ]
  },
  {
   "cell_type": "code",
   "execution_count": null,
   "metadata": {
    "ExecuteTime": {
     "end_time": "2018-08-28T23:10:30.845135Z",
     "start_time": "2018-08-28T23:10:29.121401Z"
    },
    "collapsed": true
   },
   "outputs": [],
   "source": [
    "import pandas as pd\n",
    "\n",
    "feature_names=[\"Age\", \"Workclass\", \"Final Weight\", \"Education\", \"Education-Num\", \"Marital Status\",\n",
    "               \"Occupation\", \"Relationship\", \"Race\", \"Sex\", \"Capital Gain\", \"Capital Loss\",\n",
    "               \"Hours per week\", \"Country\", \"Income\"]\n",
    "\n",
    "df_train=pd.read_csv(\"../../data/adult.data\",\n",
    "                     names=feature_names)\n",
    "\n",
    "df_test=pd.read_csv(\"../../data/adult.test\",\n",
    "                    skiprows =1,\n",
    "                    names=feature_names)\n"
   ]
  },
  {
   "cell_type": "markdown",
   "metadata": {},
   "source": [
    "# Data prep & problem definition"
   ]
  },
  {
   "cell_type": "code",
   "execution_count": null,
   "metadata": {
    "ExecuteTime": {
     "end_time": "2018-08-28T23:10:30.933658Z",
     "start_time": "2018-08-28T23:10:30.849144Z"
    },
    "collapsed": true
   },
   "outputs": [],
   "source": [
    "\n",
    "def df_prep(df):\n",
    "    df=df.copy()\n",
    "    LABEL=\"Income\"\n",
    "    y_train=df[LABEL].replace([\" <=50K\",\" <=50K.\",\" >50K\",\" >50K.\"],[0,0,1,1])\n",
    "    df_X=df.drop(LABEL, axis=1)\n",
    "    return df_X,y_train\n",
    "\n",
    "df_X_train,y_train=df_prep(df_train)\n",
    "df_X_test,y_test=df_prep(df_test)"
   ]
  },
  {
   "cell_type": "markdown",
   "metadata": {},
   "source": [
    "# Very basic feature/classifier pipeline"
   ]
  },
  {
   "cell_type": "code",
   "execution_count": null,
   "metadata": {
    "ExecuteTime": {
     "end_time": "2018-08-28T23:10:31.837528Z",
     "start_time": "2018-08-28T23:10:30.936651Z"
    }
   },
   "outputs": [],
   "source": [
    "# Sorry, I'm that lazy... :)\n",
    "\n",
    "import numpy as np\n",
    "from sklearn_pandas import gen_features\n",
    "from sklearn_pandas import DataFrameMapper\n",
    "import sklearn.preprocessing as preprocessing\n",
    "\n",
    "nums=[ ([c],preprocessing.Imputer()) for c in df_X_train.select_dtypes([np.number])]\n",
    "cats=[ ([c],preprocessing.LabelBinarizer()) for c in df_X_train.select_dtypes([\"object\"])]\n",
    "\n",
    "feature_mapper=DataFrameMapper(nums+cats,df_out=True)\n",
    "feature_mapper"
   ]
  },
  {
   "cell_type": "markdown",
   "metadata": {},
   "source": [
    "# Save model util"
   ]
  },
  {
   "cell_type": "code",
   "execution_count": null,
   "metadata": {
    "ExecuteTime": {
     "end_time": "2018-08-28T23:10:31.897522Z",
     "start_time": "2018-08-28T23:10:31.841531Z"
    },
    "collapsed": true
   },
   "outputs": [],
   "source": [
    "import os\n",
    "import joblib\n",
    "\n",
    "def save_model(pipeline,model_id):\n",
    "    \n",
    "    os.makedirs(f\"../../models/\",exist_ok=True)\n",
    "    \n",
    "    save_path=f\"../../models/{model_id}.pickle\"\n",
    "    joblib.dump(pipeline,save_path)\n",
    "        \n",
    "    return save_path"
   ]
  },
  {
   "cell_type": "markdown",
   "metadata": {},
   "source": [
    "# Logistic regression/default random forest models"
   ]
  },
  {
   "cell_type": "code",
   "execution_count": null,
   "metadata": {
    "ExecuteTime": {
     "end_time": "2018-08-28T23:10:34.138711Z",
     "start_time": "2018-08-28T23:10:31.903533Z"
    }
   },
   "outputs": [],
   "source": [
    "from sklearn.pipeline import Pipeline\n",
    "from sklearn.linear_model import LogisticRegression\n",
    "\n",
    "\n",
    "pipeline=Pipeline([('featurize', feature_mapper),\n",
    "                   ('classifier',LogisticRegression(random_state=42))])\n",
    "\n",
    "logreg_clf=pipeline.fit(df_X_train,y_train)\n",
    "save_model(logreg_clf,\"adult_logreg_default\")"
   ]
  },
  {
   "cell_type": "code",
   "execution_count": null,
   "metadata": {
    "ExecuteTime": {
     "end_time": "2018-08-28T23:10:41.262472Z",
     "start_time": "2018-08-28T23:10:34.142709Z"
    }
   },
   "outputs": [],
   "source": [
    "from sklearn.pipeline import Pipeline\n",
    "from sklearn.linear_model import LogisticRegression\n",
    "from sklearn.decomposition import PCA\n",
    "\n",
    "pipeline=Pipeline([('featurize', feature_mapper),\n",
    "                   ('pca',  PCA()),\n",
    "                   ('classifier',LogisticRegression(random_state=42))])\n",
    "\n",
    "logreg_clf=pipeline.fit(df_X_train,y_train)\n",
    "save_model(logreg_clf,\"adult_logreg_pca\")"
   ]
  },
  {
   "cell_type": "markdown",
   "metadata": {},
   "source": [
    "# Grid/Random search  "
   ]
  },
  {
   "cell_type": "code",
   "execution_count": null,
   "metadata": {
    "ExecuteTime": {
     "end_time": "2018-08-28T23:40:08.533390Z",
     "start_time": "2018-08-28T23:40:08.491392Z"
    }
   },
   "outputs": [],
   "source": [
    "from sklearn.model_selection import GridSearchCV,RandomizedSearchCV,train_test_split\n",
    "\n",
    "# Quick grid search\n",
    "CV=3\n",
    "N_ITER=5\n",
    "\n",
    "param_dist = {\n",
    "              # Note n_estimators probably not a true hyperparameter, \n",
    "              # in general more is better (aside performance/diminishing returns)\n",
    "              \"classifier__n_estimators\": [20],\n",
    "              \"classifier__max_features\": ['auto', 'sqrt', 'log2'],\n",
    "              \"classifier__max_depth\": [1,2,4,8,16],\n",
    "              \"classifier__min_samples_leaf\": [1,8,16],\n",
    "              \"classifier__bootstrap\": [True,False],\n",
    "              \"classifier__class_weight\": [None,\"balanced\",\"balanced_subsample\"],\n",
    "              \"classifier__n_jobs\":[-1],\n",
    "              \"classifier__criterion\" :['gini', 'entropy']\n",
    "             }\n",
    "\n",
    "classifier = RandomForestClassifier(random_state=42)\n",
    "\n",
    "pipeline=Pipeline([('featurize', feature_mapper),\n",
    "                   ('classifier',classifier)])\n",
    "\n",
    "search_cv = RandomizedSearchCV(pipeline, param_distributions=param_dist,\n",
    "                                   n_jobs=1,\n",
    "                                   n_iter=N_ITER,\n",
    "                                   scoring=\"roc_auc\",\n",
    "                                   error_score=0,cv=CV,verbose=5,\n",
    "                                   \n",
    "                                   #will not be default for sklearn .021\n",
    "                                   return_train_score=True)\n",
    "\n",
    "# Use subsample for grid search\n",
    "GRID_TRAIN_PERC=.1\n",
    "\n",
    "(X_train_grid,_,y_train_grid,_)=train_test_split(df_X_train,\n",
    "                                                 y_train,\n",
    "                                                 test_size=GRID_TRAIN_PERC,\n",
    "                                                 random_state=42,\n",
    "                                                 stratify=y_train)"
   ]
  },
  {
   "cell_type": "code",
   "execution_count": null,
   "metadata": {
    "ExecuteTime": {
     "end_time": "2018-08-28T23:40:17.987400Z",
     "start_time": "2018-08-28T23:40:12.470335Z"
    }
   },
   "outputs": [],
   "source": [
    "search_cv.fit(X_train_grid,y_train_grid)\n",
    "\n",
    "clf=search_cv.best_estimator_\n",
    "clf"
   ]
  },
  {
   "cell_type": "markdown",
   "metadata": {},
   "source": [
    "# Eval Grid Search results"
   ]
  },
  {
   "cell_type": "code",
   "execution_count": null,
   "metadata": {
    "ExecuteTime": {
     "end_time": "2018-08-28T23:10:45.589142Z",
     "start_time": "2018-08-28T23:10:27.169Z"
    },
    "collapsed": true
   },
   "outputs": [],
   "source": [
    "eval_cv_metric=\"mean_test_score\"\n",
    "train_cv_metric=\"mean_train_score\"\n",
    "cv_results_df=pd.DataFrame(search_cv.cv_results_).sort_values(by='rank_test_score')\n",
    "\n",
    "             \n",
    "cv_results_df[\"dif_test_train\"]=cv_results_df[train_cv_metric]-cv_results_df[eval_cv_metric]\n",
    "\n",
    "cv_results_df.fillna(\"None\",inplace=True)"
   ]
  },
  {
   "cell_type": "code",
   "execution_count": null,
   "metadata": {
    "ExecuteTime": {
     "end_time": "2018-08-28T23:10:45.589142Z",
     "start_time": "2018-08-28T23:10:27.178Z"
    }
   },
   "outputs": [],
   "source": [
    "%matplotlib inline\n",
    "import seaborn as sns\n",
    "import matplotlib.pyplot as plt\n",
    "import warnings\n",
    "from IPython.display import display as display, Markdown\n",
    "\n",
    "score_result=eval_cv_metric\n",
    "score_result2=\"dif_test_train\"\n",
    "split_col=\"\"\n",
    "\n",
    "display(Markdown(\"## %s,%s vs parameters (numeric)\"%(score_result,score_result2)))\n",
    "\n",
    "all=cv_results_df\n",
    "\n",
    "all[\"all\"]=\"\"\n",
    "\n",
    "if not split_col in all.keys():\n",
    "     split_col=\"all\"\n",
    "\n",
    "axis=0\n",
    "for col in all.columns:\n",
    "    if col.startswith(\"param_\") and len(all[col].unique())>1:\n",
    "        plt.figure(figsize=(12,6))\n",
    "\n",
    "\n",
    "        sns.boxplot(x=col, y=score_result, hue=split_col,data=all)\n",
    "        sns.swarmplot(x=col, y=score_result, color=\"red\",data=all)\n",
    "        plt.legend()\n",
    "        ax2 = plt.twinx()\n",
    "        sns.pointplot(x=col, y=score_result2,hue=split_col,ax=ax2, data=all)\n"
   ]
  },
  {
   "cell_type": "markdown",
   "metadata": {},
   "source": [
    "# Full fit (more estimators & full train set)"
   ]
  },
  {
   "cell_type": "code",
   "execution_count": null,
   "metadata": {
    "ExecuteTime": {
     "end_time": "2018-08-28T23:10:45.589142Z",
     "start_time": "2018-08-28T23:10:27.182Z"
    }
   },
   "outputs": [],
   "source": [
    "import sklearn\n",
    "full_clf=sklearn.clone(clf)\n",
    "full_clf.set_params(classifier__n_estimators=500)\n",
    "\n",
    "full_clf.fit(df_X_train,y_train)\n",
    "full_clf\n",
    "\n",
    "save_model(full_clf,\"adult_randomforest\")"
   ]
  },
  {
   "cell_type": "markdown",
   "metadata": {},
   "source": [
    "# Model eval (test set)"
   ]
  },
  {
   "cell_type": "code",
   "execution_count": null,
   "metadata": {
    "ExecuteTime": {
     "end_time": "2018-08-28T23:10:45.589142Z",
     "start_time": "2018-08-28T23:10:27.185Z"
    },
    "collapsed": true
   },
   "outputs": [],
   "source": [
    "from sklearn.metrics import roc_curve, auc\n",
    "\n",
    "y_score = full_clf.predict_proba(df_X_test)[:,1]\n",
    "fpr, tpr, _ = roc_curve(y_test,y_score)\n",
    "roc_auc= auc(fpr, tpr)"
   ]
  },
  {
   "cell_type": "code",
   "execution_count": null,
   "metadata": {
    "ExecuteTime": {
     "end_time": "2018-08-28T23:10:45.589142Z",
     "start_time": "2018-08-28T23:10:27.189Z"
    }
   },
   "outputs": [],
   "source": [
    "plt.figure()\n",
    "lw = 2\n",
    "plt.plot(fpr, tpr, color='darkorange',\n",
    "         lw=lw, label='ROC curve (area = %0.4f)' % roc_auc)\n",
    "plt.plot([0, 1], [0, 1], color='navy', lw=lw, linestyle='--')\n",
    "plt.xlim([0.0, 1.0])\n",
    "plt.ylim([0.0, 1.05])\n",
    "plt.xlabel('False Positive Rate')\n",
    "plt.ylabel('True Positive Rate')\n",
    "plt.title('Receiver Operating Characteristic (ROC)')\n",
    "plt.legend(loc=\"lower right\")\n",
    "plt.show()"
   ]
  }
 ],
 "metadata": {
  "hide_input": false,
  "kernelspec": {
   "display_name": "Python 3",
   "language": "python",
   "name": "python3"
  },
  "toc": {
   "base_numbering": 1,
   "nav_menu": {},
   "number_sections": true,
   "sideBar": true,
   "skip_h1_title": false,
   "title_cell": "Table of Contents",
   "title_sidebar": "Contents",
   "toc_cell": false,
   "toc_position": {},
   "toc_section_display": true,
   "toc_window_display": true
  }
 },
 "nbformat": 4,
 "nbformat_minor": 2
}
