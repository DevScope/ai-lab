{
 "cells": [
  {
   "cell_type": "code",
   "execution_count": null,
   "metadata": {
    "ExecuteTime": {
     "end_time": "2019-12-16T15:48:10.671651Z",
     "start_time": "2019-12-16T15:48:10.558608Z"
    }
   },
   "outputs": [],
   "source": [
    "%load_ext autoreload\n",
    "%autoreload 2"
   ]
  },
  {
   "cell_type": "markdown",
   "metadata": {},
   "source": [
    "# AI Lab tools/utils"
   ]
  },
  {
   "cell_type": "code",
   "execution_count": null,
   "metadata": {
    "ExecuteTime": {
     "end_time": "2019-12-16T15:48:10.972651Z",
     "start_time": "2019-12-16T15:48:10.921650Z"
    }
   },
   "outputs": [],
   "source": [
    "import ailab as lab"
   ]
  },
  {
   "cell_type": "markdown",
   "metadata": {},
   "source": [
    "# Jupyter App Mode with Dash URL parameters"
   ]
  },
  {
   "cell_type": "markdown",
   "metadata": {},
   "source": [
    "From appmode Notebook server extension: https://github.com/oschuett/appmode/\n",
    "\n",
    "\"To allow for passing information between notebooks via url parameters, the current url is injected into the variable **jupyter_notebook_url** .\"\n",
    "\n",
    "Each session will inherit new kernel. URLs use *apps* intead of notebooks (appmode) and pass parameters throuh **jupyter_notebook_url**.\n",
    "\n",
    "Binder URL must use urlpath and not filepath.\n",
    "\n",
    "Examples:\n",
    "\n",
    "https://mybinder.org/v2/gh/DevScope/ai-lab/master?urlpath=%2Fapps%2Fnotebooks%2Fdash-appmode-parameters%2Fdash-table.ipynb%3Fcsv_url%3Dhttps%3A%2F%2Fraw.githubusercontent.com%2Fplotly%2Fdatasets%2Fmaster%2Fmtcars.csv\n",
    "\n",
    "https://mybinder.org/v2/gh/DevScope/ai-lab/master?urlpath=%2Fapps%2Fnotebooks%2Fdash-appmode-parameters%2Fdash-table.ipynb%3Fcsv_url%3Dhttps%3A%2F%2Fraw.githubusercontent.com%2Fplotly%2Fdatasets%2Fmaster%2Fauto-mpg.csv\n",
    "\n",
    "https://mybinder.org/v2/gh/DevScope/ai-lab/master?urlpath=%2Fapps%2Fnotebooks%2Fdash-appmode-parameters%2Fdash-table.ipynb%3Fcsv_url%3Dhttps%3A%2F%2Fraw.githubusercontent.com%2Fplotly%2Fdatasets%2Fmaster%2FgapminderDataFiveYear.csv\n",
    "\n",
    "\n"
   ]
  },
  {
   "cell_type": "markdown",
   "metadata": {},
   "source": [
    "# Check Imports\n"
   ]
  },
  {
   "cell_type": "code",
   "execution_count": null,
   "metadata": {
    "ExecuteTime": {
     "end_time": "2018-09-18T15:28:41.973703Z",
     "start_time": "2018-09-18T15:28:28.816066Z"
    }
   },
   "outputs": [],
   "source": [
    "import dash\n",
    "from dash.dependencies import Input, Output, State\n",
    "import dash_core_components as dcc\n",
    "import dash_html_components as html\n",
    "import dash_table_experiments as dt\n",
    "import json\n",
    "import pandas as pd\n",
    "import numpy as np\n",
    "import plotly\n",
    "from IPython import display\n",
    "import os"
   ]
  },
  {
   "cell_type": "markdown",
   "metadata": {},
   "source": [
    "# Default Parameter"
   ]
  },
  {
   "cell_type": "code",
   "execution_count": null,
   "metadata": {
    "ExecuteTime": {
     "end_time": "2018-09-18T15:28:41.985698Z",
     "start_time": "2018-09-18T15:28:41.977699Z"
    }
   },
   "outputs": [],
   "source": [
    "csv_url=\"https://raw.githubusercontent.com/plotly/datasets/master/gapminderDataFiveYear.csv\""
   ]
  },
  {
   "cell_type": "markdown",
   "metadata": {},
   "source": [
    "# Check appmode extension parameter"
   ]
  },
  {
   "cell_type": "code",
   "execution_count": null,
   "metadata": {
    "ExecuteTime": {
     "end_time": "2018-09-18T15:28:42.017703Z",
     "start_time": "2018-09-18T15:28:41.991705Z"
    }
   },
   "outputs": [],
   "source": [
    "from urllib.parse import urlparse, parse_qs\n",
    "\n",
    "try:\n",
    "    \n",
    "    parsed_url = urlparse(jupyter_notebook_url)\n",
    "    print(\"Found: jupyter_notebook_url\")\n",
    "    params=(parse_qs(parsed_url.query))\n",
    "    \n",
    "    if params.get(\"csv_url\"):\n",
    "        csv_url=params.get(\"csv_url\")[0]\n",
    "    \n",
    "except Exception as error:\n",
    "    print(\"Error:\",error)\n",
    "    pass\n",
    "\n",
    "print(\"CSV url:\",csv_url)"
   ]
  },
  {
   "cell_type": "markdown",
   "metadata": {},
   "source": [
    "# Dash App"
   ]
  },
  {
   "cell_type": "code",
   "execution_count": null,
   "metadata": {
    "ExecuteTime": {
     "end_time": "2018-09-18T15:28:45.126849Z",
     "start_time": "2018-09-18T15:28:42.050718Z"
    }
   },
   "outputs": [],
   "source": [
    "#From https://github.com/plotly/dash-table-experiments/blob/master/usage-callback.py\n",
    "\n",
    "import dash\n",
    "from dash.dependencies import Input, Output\n",
    "import dash_core_components as dcc\n",
    "import dash_html_components as html\n",
    "import dash_table_experiments as dt\n",
    "import pandas as pd\n",
    "\n",
    "app = dash.Dash()\n",
    "\n",
    "df_data = pd.read_csv(csv_url)\n",
    "\n",
    "\n",
    "app.layout = html.Div([\n",
    "    html.H4('DataTable'),\n",
    "    html.Label('Report type:', style={'font-weight': 'bold'}),\n",
    "    dt.DataTable(\n",
    "        # Initialise the rows\n",
    "        rows=df_data.to_dict('records'),\n",
    "        columns=df_data.columns.values,\n",
    "        row_selectable=True,\n",
    "        filterable=True,\n",
    "        sortable=True,\n",
    "        selected_row_indices=[],\n",
    "        id='table'\n",
    "    ),\n",
    "    html.Div(id='selected-indexes')\n",
    "], className='container')\n",
    "\n",
    "\n",
    "app.css.append_css({\n",
    "    'external_url': 'https://codepen.io/chriddyp/pen/bWLwgP.css'\n",
    "})\n",
    "\n",
    "\n",
    "\n"
   ]
  },
  {
   "cell_type": "markdown",
   "metadata": {},
   "source": [
    "# Start Dash"
   ]
  },
  {
   "cell_type": "code",
   "execution_count": null,
   "metadata": {
    "ExecuteTime": {
     "start_time": "2018-09-18T15:29:31.418Z"
    }
   },
   "outputs": [],
   "source": [
    "# use <esc> i+i on Jupyter to quick interrupt & get control back to jupyter\n",
    "lab.show_app(app)"
   ]
  }
 ],
 "metadata": {
  "hide_input": false,
  "kernelspec": {
   "display_name": "Python 3",
   "language": "python",
   "name": "python3"
  },
  "language_info": {
   "codemirror_mode": {
    "name": "ipython",
    "version": 3
   },
   "file_extension": ".py",
   "mimetype": "text/x-python",
   "name": "python",
   "nbconvert_exporter": "python",
   "pygments_lexer": "ipython3",
   "version": "3.6.5"
  },
  "toc": {
   "base_numbering": 1,
   "nav_menu": {},
   "number_sections": true,
   "sideBar": true,
   "skip_h1_title": false,
   "title_cell": "Table of Contents",
   "title_sidebar": "Contents",
   "toc_cell": false,
   "toc_position": {
    "height": "calc(100% - 180px)",
    "left": "10px",
    "top": "150px",
    "width": "273px"
   },
   "toc_section_display": true,
   "toc_window_display": true
  },
  "varInspector": {
   "cols": {
    "lenName": 16,
    "lenType": 16,
    "lenVar": 40
   },
   "kernels_config": {
    "python": {
     "delete_cmd_postfix": "",
     "delete_cmd_prefix": "del ",
     "library": "var_list.py",
     "varRefreshCmd": "print(var_dic_list())"
    },
    "r": {
     "delete_cmd_postfix": ") ",
     "delete_cmd_prefix": "rm(",
     "library": "var_list.r",
     "varRefreshCmd": "cat(var_dic_list()) "
    }
   },
   "types_to_exclude": [
    "module",
    "function",
    "builtin_function_or_method",
    "instance",
    "_Feature"
   ],
   "window_display": false
  }
 },
 "nbformat": 4,
 "nbformat_minor": 2
}
