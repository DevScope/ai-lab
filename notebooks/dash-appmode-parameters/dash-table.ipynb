{
 "cells": [
  {
   "cell_type": "markdown",
   "metadata": {},
   "source": [
    "# Jupyter App Mode with Dash URL parameters"
   ]
  },
  {
   "cell_type": "markdown",
   "metadata": {},
   "source": [
    "From appmode Notebook server extension: https://github.com/oschuett/appmode/\n",
    "\n",
    "\"To allow for passing information between notebooks via url parameters, the current url is injected into the variable **jupyter_notebook_url** .\"\n",
    "\n",
    "Each session will inherit new kernel. URLs use *apps* intead of notebooks (appmode) and pass parameters throuh **jupyter_notebook_url**.\n",
    "\n",
    "Examples:\n",
    "-https://mybinder.org/v2/gh/DevScope/ai-lab/master?filepath=apps%2Fdash-appmode-parameters%2Fdash-table.ipynb&&csv_url=https://raw.githubusercontent.com/plotly/datasets/master/mtcars.csv\n",
    "\n",
    "-https://mybinder.org/v2/gh/DevScope/ai-lab/master?filepath=apps%2Fdash-appmode-parameters%2Fdash-table.ipynb&&csv_url=https://raw.githubusercontent.com/plotly/datasets/master/gapminderDataFiveYear.csv\n",
    "\n",
    "-https://mybinder.org/v2/gh/DevScope/ai-lab/master?filepath=apps%2Fdash-appmode-parameters%2Fdash-table.ipynb&&csv_url=https://raw.githubusercontent.com/plotly/datasets/master/auto-mpg.csv\n",
    "\n"
   ]
  },
  {
   "cell_type": "markdown",
   "metadata": {},
   "source": [
    "# Check Imports\n"
   ]
  },
  {
   "cell_type": "code",
   "execution_count": 30,
   "metadata": {
    "ExecuteTime": {
     "end_time": "2018-09-18T09:01:55.016533Z",
     "start_time": "2018-09-18T09:01:55.008539Z"
    },
    "collapsed": true
   },
   "outputs": [],
   "source": [
    "import dash\n",
    "from dash.dependencies import Input, Output, State,Event\n",
    "import dash_core_components as dcc\n",
    "import dash_html_components as html\n",
    "import dash_table_experiments as dt\n",
    "import json\n",
    "import pandas as pd\n",
    "import numpy as np\n",
    "import plotly\n",
    "from IPython import display\n",
    "import os"
   ]
  },
  {
   "cell_type": "markdown",
   "metadata": {},
   "source": [
    "# Default Parameter"
   ]
  },
  {
   "cell_type": "code",
   "execution_count": 33,
   "metadata": {
    "ExecuteTime": {
     "end_time": "2018-09-18T09:09:31.067729Z",
     "start_time": "2018-09-18T09:09:31.061725Z"
    },
    "collapsed": true
   },
   "outputs": [],
   "source": [
    "csv_url=\"https://raw.githubusercontent.com/plotly/datasets/master/gapminderDataFiveYear.csv\""
   ]
  },
  {
   "cell_type": "markdown",
   "metadata": {},
   "source": [
    "# Check appmode extension parameter"
   ]
  },
  {
   "cell_type": "code",
   "execution_count": null,
   "metadata": {
    "ExecuteTime": {
     "start_time": "2018-09-18T11:58:23.205Z"
    }
   },
   "outputs": [],
   "source": [
    "from urllib.parse import urlparse, parse_qs\n",
    "\n",
    "try:\n",
    "    \n",
    "    parsed_url = urlparse(jupyter_notebook_url)\n",
    "    print(\"Found: jupyter_notebook_url\")\n",
    "    params=(parse_qs(parsed_url.query))\n",
    "    \n",
    "    if params.get(\"csv_url\"):\n",
    "        csv_url=params.get(\"csv_url\")[0]\n",
    "    \n",
    "except Exception as error:\n",
    "    print(\"Error:\",error)\n",
    "    pass\n",
    "\n",
    "print(\"CSV url:\",csv_url)"
   ]
  },
  {
   "cell_type": "markdown",
   "metadata": {},
   "source": [
    "\n",
    "# Show Dash App Utility by Kevin Mader"
   ]
  },
  {
   "cell_type": "code",
   "execution_count": 39,
   "metadata": {
    "ExecuteTime": {
     "end_time": "2018-09-18T09:09:51.977748Z",
     "start_time": "2018-09-18T09:09:51.962753Z"
    },
    "collapsed": true
   },
   "outputs": [],
   "source": [
    "# From awesome dash intro repo by Kevin Mader\n",
    "# A quick intro to Dash made for the PyData event in Zurich\n",
    "# https://github.com/4QuantOSS/DashIntro \n",
    "\n",
    "# Can use Jupyter nbserverproxy extension (available at /.../proxy/<port>)\n",
    "\n",
    "def show_app(app, port = 10001, \n",
    "             width = 1000, \n",
    "             height = 700, \n",
    "             offline = False,\n",
    "            in_binder = None):\n",
    "    in_binder ='JUPYTERHUB_SERVICE_PREFIX' in os.environ if in_binder is None else in_binder\n",
    "    if in_binder:\n",
    "        base_prefix = '{}proxy/{}/'.format(os.environ['JUPYTERHUB_SERVICE_PREFIX'], port)\n",
    "        url = 'https://hub.mybinder.org{}'.format(base_prefix)\n",
    "        app.config.requests_pathname_prefix = base_prefix\n",
    "    else:\n",
    "        url = 'http://localhost:%d' % port\n",
    "    iframe = '<a href=\"{url}\" target=\"_new\">Open in new window</a><hr><iframe src=\"{url}\" width={width} height={height}></iframe>'.format(url = url, \n",
    "                                                                                  width = width, \n",
    "                                                                                  height = height)\n",
    "\n",
    "    display.display_html(iframe, raw = True)\n",
    "    if offline:\n",
    "        app.css.config.serve_locally = True\n",
    "        app.scripts.config.serve_locally = True\n",
    "        \n",
    "    return app.run_server(debug=False, # needs to be false in Jupyter\n",
    "                          host = '0.0.0.0',\n",
    "                          port=port)"
   ]
  },
  {
   "cell_type": "markdown",
   "metadata": {},
   "source": [
    "# Dash App"
   ]
  },
  {
   "cell_type": "code",
   "execution_count": 26,
   "metadata": {
    "ExecuteTime": {
     "end_time": "2018-09-18T09:00:48.452874Z",
     "start_time": "2018-09-18T09:00:37.366858Z"
    },
    "collapsed": true
   },
   "outputs": [],
   "source": [
    "#From https://github.com/plotly/dash-table-experiments/blob/master/usage-callback.py\n",
    "\n",
    "import dash\n",
    "from dash.dependencies import Input, Output\n",
    "import dash_core_components as dcc\n",
    "import dash_html_components as html\n",
    "import dash_table_experiments as dt\n",
    "import pandas as pd\n",
    "\n",
    "app = dash.Dash()\n",
    "\n",
    "# app.scripts.config.serve_locally = True\n",
    "# app.css.config.serve_locally = True\n",
    "\n",
    "df_data = pd.read_csv(csv_url)\n",
    "\n",
    "\n",
    "app.layout = html.Div([\n",
    "    html.H4('DataTable'),\n",
    "    html.Label('Report type:', style={'font-weight': 'bold'}),\n",
    "    dt.DataTable(\n",
    "        # Initialise the rows\n",
    "        rows=df_data.to_dict('records'),\n",
    "        columns=df_data.columns.values,\n",
    "        row_selectable=True,\n",
    "        filterable=True,\n",
    "        sortable=True,\n",
    "        selected_row_indices=[],\n",
    "        id='table'\n",
    "    ),\n",
    "    html.Div(id='selected-indexes')\n",
    "], className='container')\n",
    "\n",
    "\n",
    "app.css.append_css({\n",
    "    'external_url': 'https://codepen.io/chriddyp/pen/bWLwgP.css'\n",
    "})\n",
    "\n",
    "\n",
    "\n"
   ]
  },
  {
   "cell_type": "markdown",
   "metadata": {},
   "source": [
    "# Start Dash"
   ]
  },
  {
   "cell_type": "code",
   "execution_count": null,
   "metadata": {
    "ExecuteTime": {
     "start_time": "2018-09-18T09:02:04.984Z"
    }
   },
   "outputs": [
    {
     "data": {
      "text/html": [
       "<a href=\"http://localhost:10001\" target=\"_new\">Open in new window</a><hr><iframe src=\"http://localhost:10001\" width=700 height=350></iframe>"
      ]
     },
     "metadata": {},
     "output_type": "display_data"
    },
    {
     "name": "stderr",
     "output_type": "stream",
     "text": [
      " * Running on http://0.0.0.0:10001/ (Press CTRL+C to quit)\n",
      "127.0.0.1 - - [18/Sep/2018 10:02:06] \"GET / HTTP/1.1\" 200 -\n",
      "127.0.0.1 - - [18/Sep/2018 10:02:08] \"GET /_dash-layout HTTP/1.1\" 200 -\n",
      "127.0.0.1 - - [18/Sep/2018 10:02:08] \"GET /_dash-dependencies HTTP/1.1\" 200 -\n"
     ]
    }
   ],
   "source": [
    "# use <esc> i+i on Jupyter to quick interrupt & get control back to jupyter\n",
    "show_app(app)"
   ]
  }
 ],
 "metadata": {
  "hide_input": false,
  "kernelspec": {
   "display_name": "Python 3",
   "language": "python",
   "name": "python3"
  },
  "language_info": {
   "codemirror_mode": {
    "name": "ipython",
    "version": 3
   },
   "file_extension": ".py",
   "mimetype": "text/x-python",
   "name": "python",
   "nbconvert_exporter": "python",
   "pygments_lexer": "ipython3",
   "version": "3.6.3"
  },
  "toc": {
   "base_numbering": 1,
   "nav_menu": {},
   "number_sections": true,
   "sideBar": true,
   "skip_h1_title": false,
   "title_cell": "Table of Contents",
   "title_sidebar": "Contents",
   "toc_cell": false,
   "toc_position": {
    "height": "calc(100% - 180px)",
    "left": "10px",
    "top": "150px",
    "width": "273px"
   },
   "toc_section_display": true,
   "toc_window_display": true
  }
 },
 "nbformat": 4,
 "nbformat_minor": 2
}
