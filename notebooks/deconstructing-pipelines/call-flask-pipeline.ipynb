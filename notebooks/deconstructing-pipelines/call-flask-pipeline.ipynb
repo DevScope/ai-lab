{
 "cells": [
  {
   "cell_type": "code",
   "execution_count": 44,
   "metadata": {
    "ExecuteTime": {
     "end_time": "2018-09-12T15:48:20.982575Z",
     "start_time": "2018-09-12T15:48:20.714579Z"
    }
   },
   "outputs": [
    {
     "name": "stdout",
     "output_type": "stream",
     "text": [
      "The autoreload extension is already loaded. To reload it, use:\n",
      "  %reload_ext autoreload\n"
     ]
    }
   ],
   "source": [
    "%load_ext autoreload\n",
    "%autoreload 2\n",
    "%matplotlib inline"
   ]
  },
  {
   "cell_type": "code",
   "execution_count": 45,
   "metadata": {
    "ExecuteTime": {
     "end_time": "2018-09-12T15:48:21.868556Z",
     "start_time": "2018-09-12T15:48:21.607559Z"
    }
   },
   "outputs": [],
   "source": [
    "import sklearn\n",
    "import sklearn_pandas\n",
    "import pandas as pd\n",
    "import ailab\n",
    "import requests\n"
   ]
  },
  {
   "cell_type": "code",
   "execution_count": 46,
   "metadata": {
    "ExecuteTime": {
     "end_time": "2018-09-12T15:48:22.875536Z",
     "start_time": "2018-09-12T15:48:22.622549Z"
    }
   },
   "outputs": [],
   "source": [
    "df_test=pd.read_csv(\"titanic-test.csv\")\n"
   ]
  },
  {
   "cell_type": "markdown",
   "metadata": {},
   "source": [
    "# Convert to JSON "
   ]
  },
  {
   "cell_type": "code",
   "execution_count": 47,
   "metadata": {
    "ExecuteTime": {
     "end_time": "2018-09-12T15:48:24.256391Z",
     "start_time": "2018-09-12T15:48:23.966404Z"
    }
   },
   "outputs": [
    {
     "name": "stdout",
     "output_type": "stream",
     "text": [
      "[{\"PassengerId\":892,\"Pclass\":3,\"Name\":\"Kelly, Mr. James\",\"Sex\":\"male\",\"Age\":34.5,\"SibSp\":0,\"Parch\":0,\"Ticket\":\"330911\",\"Fare\":7.8292,\"Cabin\":null,\"Embarked\":\"Q\"},{\"PassengerId\":893,\"Pclass\":3,\"Name\":\"Wilkes, Mrs. James (Ellen Needs)\",\"Sex\":\"female\",\"Age\":47.0,\"SibSp\":1,\"Parch\":0,\"Ticket\":\"363272\",\"Fare\":7.0,\"Cabin\":null,\"Embarked\":\"S\"},{\"PassengerId\":894,\"Pclass\":2,\"Name\":\"Myles, Mr. Thomas Francis\",\"Sex\":\"male\",\"Age\":62.0,\"SibSp\":0,\"Parch\":0,\"Ticket\":\"240276\",\"Fare\":9.6875,\"Cabin\":null,\"Embarked\":\"Q\"},{\"PassengerId\":895,\"Pclass\":3,\"Name\":\"Wirz, Mr. Albert\",\"Sex\":\"male\",\"Age\":27.0,\"SibSp\":0,\"Parch\":0,\"Ticket\":\"315154\",\"Fare\":8.6625,\"Cabin\":null,\"Embarked\":\"S\"},{\"PassengerId\":896,\"Pclass\":3,\"Name\":\"Hirvonen, Mrs. Alexander (Helga E Lindqvist)\",\"Sex\":\"female\",\"Age\":22.0,\"SibSp\":1,\"Parch\":1,\"Ticket\":\"3101298\",\"Fare\":12.2875,\"Cabin\":null,\"Embarked\":\"S\"}]\n"
     ]
    }
   ],
   "source": [
    "data=df_test.head().to_json(orient='records')\n",
    "\n",
    "\n",
    "print(data)\n",
    "\n"
   ]
  },
  {
   "cell_type": "markdown",
   "metadata": {},
   "source": [
    "# Call API (v1)"
   ]
  },
  {
   "cell_type": "code",
   "execution_count": 53,
   "metadata": {
    "ExecuteTime": {
     "end_time": "2018-09-12T15:50:56.620715Z",
     "start_time": "2018-09-12T15:50:54.874721Z"
    }
   },
   "outputs": [
    {
     "name": "stdout",
     "output_type": "stream",
     "text": [
      "200\n",
      "181\n"
     ]
    },
    {
     "data": {
      "text/html": [
       "<div>\n",
       "<style scoped>\n",
       "    .dataframe tbody tr th:only-of-type {\n",
       "        vertical-align: middle;\n",
       "    }\n",
       "\n",
       "    .dataframe tbody tr th {\n",
       "        vertical-align: top;\n",
       "    }\n",
       "\n",
       "    .dataframe thead th {\n",
       "        text-align: right;\n",
       "    }\n",
       "</style>\n",
       "<table border=\"1\" class=\"dataframe\">\n",
       "  <thead>\n",
       "    <tr style=\"text-align: right;\">\n",
       "      <th></th>\n",
       "      <th>0</th>\n",
       "      <th>1</th>\n",
       "    </tr>\n",
       "  </thead>\n",
       "  <tbody>\n",
       "    <tr>\n",
       "      <th>0</th>\n",
       "      <td>0.696113</td>\n",
       "      <td>0.303887</td>\n",
       "    </tr>\n",
       "    <tr>\n",
       "      <th>1</th>\n",
       "      <td>0.497475</td>\n",
       "      <td>0.502525</td>\n",
       "    </tr>\n",
       "    <tr>\n",
       "      <th>2</th>\n",
       "      <td>0.637201</td>\n",
       "      <td>0.362799</td>\n",
       "    </tr>\n",
       "    <tr>\n",
       "      <th>3</th>\n",
       "      <td>0.792576</td>\n",
       "      <td>0.207424</td>\n",
       "    </tr>\n",
       "    <tr>\n",
       "      <th>4</th>\n",
       "      <td>0.436823</td>\n",
       "      <td>0.563177</td>\n",
       "    </tr>\n",
       "  </tbody>\n",
       "</table>\n",
       "</div>"
      ],
      "text/plain": [
       "          0         1\n",
       "0  0.696113  0.303887\n",
       "1  0.497475  0.502525\n",
       "2  0.637201  0.362799\n",
       "3  0.792576  0.207424\n",
       "4  0.436823  0.563177"
      ]
     },
     "metadata": {},
     "output_type": "display_data"
    }
   ],
   "source": [
    "header = {'Content-Type': 'application/json', \\\n",
    "                  'Accept': 'application/json'}\n",
    "\n",
    "model_id=\"pipeline_demo_best_v1\"\n",
    "resp = requests.post(f\"http://localhost:9001/predict/{model_id}/\", \\\n",
    "                    data = data,\\\n",
    "                    headers= header)\n",
    "\n",
    "print(resp.status_code)\n",
    "print(len(resp.content))\n",
    "\n",
    "out_df=pd.DataFrame(resp.json())\n",
    "display(out_df)"
   ]
  },
  {
   "cell_type": "markdown",
   "metadata": {},
   "source": [
    "# Call API (v2)"
   ]
  },
  {
   "cell_type": "code",
   "execution_count": 54,
   "metadata": {
    "ExecuteTime": {
     "end_time": "2018-09-12T15:50:58.870088Z",
     "start_time": "2018-09-12T15:50:57.385720Z"
    }
   },
   "outputs": [
    {
     "name": "stdout",
     "output_type": "stream",
     "text": [
      "200\n",
      "99\n"
     ]
    },
    {
     "data": {
      "text/html": [
       "<div>\n",
       "<style scoped>\n",
       "    .dataframe tbody tr th:only-of-type {\n",
       "        vertical-align: middle;\n",
       "    }\n",
       "\n",
       "    .dataframe tbody tr th {\n",
       "        vertical-align: top;\n",
       "    }\n",
       "\n",
       "    .dataframe thead th {\n",
       "        text-align: right;\n",
       "    }\n",
       "</style>\n",
       "<table border=\"1\" class=\"dataframe\">\n",
       "  <thead>\n",
       "    <tr style=\"text-align: right;\">\n",
       "      <th></th>\n",
       "      <th>0</th>\n",
       "      <th>1</th>\n",
       "    </tr>\n",
       "  </thead>\n",
       "  <tbody>\n",
       "    <tr>\n",
       "      <th>0</th>\n",
       "      <td>0.66</td>\n",
       "      <td>0.34</td>\n",
       "    </tr>\n",
       "    <tr>\n",
       "      <th>1</th>\n",
       "      <td>0.48</td>\n",
       "      <td>0.52</td>\n",
       "    </tr>\n",
       "    <tr>\n",
       "      <th>2</th>\n",
       "      <td>0.52</td>\n",
       "      <td>0.48</td>\n",
       "    </tr>\n",
       "    <tr>\n",
       "      <th>3</th>\n",
       "      <td>0.80</td>\n",
       "      <td>0.20</td>\n",
       "    </tr>\n",
       "    <tr>\n",
       "      <th>4</th>\n",
       "      <td>0.36</td>\n",
       "      <td>0.64</td>\n",
       "    </tr>\n",
       "  </tbody>\n",
       "</table>\n",
       "</div>"
      ],
      "text/plain": [
       "      0     1\n",
       "0  0.66  0.34\n",
       "1  0.48  0.52\n",
       "2  0.52  0.48\n",
       "3  0.80  0.20\n",
       "4  0.36  0.64"
      ]
     },
     "metadata": {},
     "output_type": "display_data"
    }
   ],
   "source": [
    "header = {'Content-Type': 'application/json', \\\n",
    "                  'Accept': 'application/json'}\n",
    "\n",
    "model_id=\"pipeline_demo_best_v2\"\n",
    "resp = requests.post(f\"http://localhost:9001/predict/{model_id}/\", \\\n",
    "                    data = data,\\\n",
    "                    headers= header)\n",
    "\n",
    "print(resp.status_code)\n",
    "print(len(resp.content))\n",
    "\n",
    "out_df=pd.DataFrame(resp.json())\n",
    "display(out_df)"
   ]
  }
 ],
 "metadata": {
  "hide_input": false,
  "kernelspec": {
   "display_name": "Python 3",
   "language": "python",
   "name": "python3"
  },
  "language_info": {
   "codemirror_mode": {
    "name": "ipython",
    "version": 3
   },
   "file_extension": ".py",
   "mimetype": "text/x-python",
   "name": "python",
   "nbconvert_exporter": "python",
   "pygments_lexer": "ipython3",
   "version": "3.6.3"
  },
  "toc": {
   "base_numbering": 1,
   "nav_menu": {},
   "number_sections": true,
   "sideBar": true,
   "skip_h1_title": false,
   "title_cell": "Table of Contents",
   "title_sidebar": "Contents",
   "toc_cell": false,
   "toc_position": {},
   "toc_section_display": true,
   "toc_window_display": false
  },
  "varInspector": {
   "cols": {
    "lenName": 16,
    "lenType": 16,
    "lenVar": 40
   },
   "kernels_config": {
    "python": {
     "delete_cmd_postfix": "",
     "delete_cmd_prefix": "del ",
     "library": "var_list.py",
     "varRefreshCmd": "print(var_dic_list())"
    },
    "r": {
     "delete_cmd_postfix": ") ",
     "delete_cmd_prefix": "rm(",
     "library": "var_list.r",
     "varRefreshCmd": "cat(var_dic_list()) "
    }
   },
   "types_to_exclude": [
    "module",
    "function",
    "builtin_function_or_method",
    "instance",
    "_Feature"
   ],
   "window_display": false
  }
 },
 "nbformat": 4,
 "nbformat_minor": 2
}
