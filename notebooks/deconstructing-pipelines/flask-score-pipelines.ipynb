{
 "cells": [
  {
   "cell_type": "code",
   "execution_count": 1,
   "metadata": {
    "ExecuteTime": {
     "end_time": "2018-09-12T15:49:54.658093Z",
     "start_time": "2018-09-12T15:49:50.684096Z"
    },
    "collapsed": true
   },
   "outputs": [],
   "source": [
    "from werkzeug.wrappers import Request, Response\n",
    "import flask\n",
    "from flask import Flask, jsonify\n",
    "import joblib\n",
    "import logging\n",
    "import pandas as pd\n",
    "import io\n",
    "import numpy as np\n",
    "import shap\n",
    "import re\n",
    "\n",
    "# NOTE: *not* for production use\n",
    "# just testing simple API serving scenarios in this LAB\n",
    "# -won't scale properly\n",
    "# -needs much more security checking due to file handling, pickle and dynamic loading\n",
    "\n",
    "logging.basicConfig(level=logging.INFO)\n",
    "logger = logging.getLogger(__name__)\n",
    "\n",
    "app = Flask(__name__)\n",
    "\n",
    "model_cache={}\n",
    "\n",
    "@app.route(\"/\")\n",
    "def hello():\n",
    "    return \"Hello World!\"\n",
    "\n",
    "# Don't allow anything beside words/numbers _ and -, avoid traverse directories\n",
    "def get_valid_modelid(model_id):\n",
    "     return re.sub(r\"[^a-zA-Z0-9_-]\",\"_\",model_id)\n",
    "   \n",
    "\n",
    "def get_model(model_id):\n",
    "    \n",
    "    model_id=get_valid_modelid(model_id)\n",
    "    \n",
    "    model_info=model_cache.get(model_id)\n",
    "    if model_info is None:\n",
    "        logger.info(\"Loading model %s...\"%(model_id))\n",
    "        \n",
    "        model_pipeline=joblib.load(f\"../../models/{model_id}.pkl\")\n",
    "        \n",
    "        print(\"Loaded:\",model_pipeline)\n",
    "\n",
    "        model_info={\"model_id\":model_id,\"model_pipeline\":model_pipeline}\n",
    "\n",
    "        model_cache[model_id]=model_info  \n",
    "    return model_info\n",
    "\n",
    "@app.route(\"/info/<model_id>/\")\n",
    "def info(model_id,methods=[\"GET\"]):\n",
    "    \n",
    "    model_id=get_valid_modelid(model_id)\n",
    "    \n",
    "    model_info=get_model(model_id)\n",
    "    \n",
    "    return(str(model_info))\n",
    "\n",
    "@app.route(\"/predict/<model_id>/\",methods=[\"POST\"])\n",
    "def predict(model_id):\n",
    "    \n",
    "    model_id=get_valid_modelid(model_id)\n",
    "    \n",
    "    model_info=get_model(model_id)\n",
    "\n",
    "    logger.info(flask.request.content_type)\n",
    "    \n",
    "    # Convert from CSV to pandas\n",
    "    if flask.request.content_type.lower().endswith(\"csv\"):\n",
    "        print(\"reading csv...\")\n",
    "        data = flask.request.data.decode('utf-8')\n",
    "        s = io.StringIO(data)\n",
    "        data = pd.read_csv(s)\n",
    "    elif flask.request.content_type == 'application/json':\n",
    "        print(\"reading json...\")\n",
    "        print(flask.request.json)\n",
    "        print(\"json end...\")\n",
    "        data=pd.DataFrame(flask.request.json)\n",
    "    else:\n",
    "        return flask.Response(response='This predictor only supports CSV or JSON data', status=415, mimetype='text/plain')\n",
    "    \n",
    "    print(\"Shape:\",data.shape)\n",
    "    print(data.head(5))\n",
    "    \n",
    "    # Get pipeline\n",
    "    model_pipeline=model_info[\"model_pipeline\"]\n",
    "\n",
    "    # Predict\n",
    "    y_hat=model_pipeline.predict_proba(data)\n",
    "    \n",
    "    df_out=pd.DataFrame(y_hat,index=data.index)\n",
    "    \n",
    "    return(df_out.to_json(orient=\"records\"))\n",
    "\n"
   ]
  },
  {
   "cell_type": "code",
   "execution_count": 2,
   "metadata": {
    "ExecuteTime": {
     "end_time": "2018-09-12T15:53:04.476965Z",
     "start_time": "2018-09-12T15:50:48.251257Z"
    }
   },
   "outputs": [
    {
     "name": "stderr",
     "output_type": "stream",
     "text": [
      "INFO:werkzeug: * Running on http://localhost:9001/ (Press CTRL+C to quit)\n",
      "INFO:__main__:Loading model pipeline_demo_best_v1...\n"
     ]
    },
    {
     "name": "stdout",
     "output_type": "stream",
     "text": [
      "Loaded: Pipeline(memory=None,\n",
      "     steps=[('prep', PrepPipeline(add_missing_indicators=False, copy=True, impute_age=False,\n",
      "       impute_cabin=True, notes='v1-grid search', train_filter='')), ('featurize', DataFrameMapper(default=False, df_out=True,\n",
      "        features=[(['PassengerId'], Imputer(axis=0, copy=True, missing_values='NaN', ...stimators=50, n_jobs=-1,\n",
      "            oob_score=False, random_state=1, verbose=0, warm_start=False))])\n"
     ]
    },
    {
     "name": "stderr",
     "output_type": "stream",
     "text": [
      "INFO:__main__:application/json\n"
     ]
    },
    {
     "name": "stdout",
     "output_type": "stream",
     "text": [
      "reading json...\n",
      "[{'PassengerId': 892, 'Pclass': 3, 'Name': 'Kelly, Mr. James', 'Sex': 'male', 'Age': 34.5, 'SibSp': 0, 'Parch': 0, 'Ticket': '330911', 'Fare': 7.8292, 'Cabin': None, 'Embarked': 'Q'}, {'PassengerId': 893, 'Pclass': 3, 'Name': 'Wilkes, Mrs. James (Ellen Needs)', 'Sex': 'female', 'Age': 47.0, 'SibSp': 1, 'Parch': 0, 'Ticket': '363272', 'Fare': 7.0, 'Cabin': None, 'Embarked': 'S'}, {'PassengerId': 894, 'Pclass': 2, 'Name': 'Myles, Mr. Thomas Francis', 'Sex': 'male', 'Age': 62.0, 'SibSp': 0, 'Parch': 0, 'Ticket': '240276', 'Fare': 9.6875, 'Cabin': None, 'Embarked': 'Q'}, {'PassengerId': 895, 'Pclass': 3, 'Name': 'Wirz, Mr. Albert', 'Sex': 'male', 'Age': 27.0, 'SibSp': 0, 'Parch': 0, 'Ticket': '315154', 'Fare': 8.6625, 'Cabin': None, 'Embarked': 'S'}, {'PassengerId': 896, 'Pclass': 3, 'Name': 'Hirvonen, Mrs. Alexander (Helga E Lindqvist)', 'Sex': 'female', 'Age': 22.0, 'SibSp': 1, 'Parch': 1, 'Ticket': '3101298', 'Fare': 12.2875, 'Cabin': None, 'Embarked': 'S'}]\n",
      "json end...\n",
      "Shape: (5, 11)\n",
      "    Age Cabin Embarked     Fare                                          Name  \\\n",
      "0  34.5  None        Q   7.8292                              Kelly, Mr. James   \n",
      "1  47.0  None        S   7.0000              Wilkes, Mrs. James (Ellen Needs)   \n",
      "2  62.0  None        Q   9.6875                     Myles, Mr. Thomas Francis   \n",
      "3  27.0  None        S   8.6625                              Wirz, Mr. Albert   \n",
      "4  22.0  None        S  12.2875  Hirvonen, Mrs. Alexander (Helga E Lindqvist)   \n",
      "\n",
      "   Parch  PassengerId  Pclass     Sex  SibSp   Ticket  \n",
      "0      0          892       3    male      0   330911  \n",
      "1      0          893       3  female      1   363272  \n",
      "2      0          894       2    male      0   240276  \n",
      "3      0          895       3    male      0   315154  \n",
      "4      1          896       3  female      1  3101298  \n",
      "Transforming...\n",
      "Notes: v1-grid search\n"
     ]
    },
    {
     "name": "stderr",
     "output_type": "stream",
     "text": [
      "INFO:werkzeug:127.0.0.1 - - [12/Sep/2018 16:50:56] \"POST /predict/pipeline_demo_best_v1/ HTTP/1.1\" 200 -\n",
      "INFO:__main__:Loading model pipeline_demo_best_v2...\n"
     ]
    },
    {
     "name": "stdout",
     "output_type": "stream",
     "text": [
      "Loaded: Pipeline(memory=None,\n",
      "     steps=[('prep', PrepPipeline(add_missing_indicators=True, copy=True, impute_age=True,\n",
      "       impute_cabin=True, notes='v2-default pipeline', train_filter='')), ('featurize', DataFrameMapper(default=False, df_out=True,\n",
      "        features=[(['PassengerId'], Imputer(axis=0, copy=True, missing_values='NaN...n_jobs=1,\n",
      "            oob_score=False, random_state=None, verbose=0,\n",
      "            warm_start=False))])\n"
     ]
    },
    {
     "name": "stderr",
     "output_type": "stream",
     "text": [
      "INFO:__main__:application/json\n"
     ]
    },
    {
     "name": "stdout",
     "output_type": "stream",
     "text": [
      "reading json...\n",
      "[{'PassengerId': 892, 'Pclass': 3, 'Name': 'Kelly, Mr. James', 'Sex': 'male', 'Age': 34.5, 'SibSp': 0, 'Parch': 0, 'Ticket': '330911', 'Fare': 7.8292, 'Cabin': None, 'Embarked': 'Q'}, {'PassengerId': 893, 'Pclass': 3, 'Name': 'Wilkes, Mrs. James (Ellen Needs)', 'Sex': 'female', 'Age': 47.0, 'SibSp': 1, 'Parch': 0, 'Ticket': '363272', 'Fare': 7.0, 'Cabin': None, 'Embarked': 'S'}, {'PassengerId': 894, 'Pclass': 2, 'Name': 'Myles, Mr. Thomas Francis', 'Sex': 'male', 'Age': 62.0, 'SibSp': 0, 'Parch': 0, 'Ticket': '240276', 'Fare': 9.6875, 'Cabin': None, 'Embarked': 'Q'}, {'PassengerId': 895, 'Pclass': 3, 'Name': 'Wirz, Mr. Albert', 'Sex': 'male', 'Age': 27.0, 'SibSp': 0, 'Parch': 0, 'Ticket': '315154', 'Fare': 8.6625, 'Cabin': None, 'Embarked': 'S'}, {'PassengerId': 896, 'Pclass': 3, 'Name': 'Hirvonen, Mrs. Alexander (Helga E Lindqvist)', 'Sex': 'female', 'Age': 22.0, 'SibSp': 1, 'Parch': 1, 'Ticket': '3101298', 'Fare': 12.2875, 'Cabin': None, 'Embarked': 'S'}]\n",
      "json end...\n",
      "Shape: (5, 11)\n",
      "    Age Cabin Embarked     Fare                                          Name  \\\n",
      "0  34.5  None        Q   7.8292                              Kelly, Mr. James   \n",
      "1  47.0  None        S   7.0000              Wilkes, Mrs. James (Ellen Needs)   \n",
      "2  62.0  None        Q   9.6875                     Myles, Mr. Thomas Francis   \n",
      "3  27.0  None        S   8.6625                              Wirz, Mr. Albert   \n",
      "4  22.0  None        S  12.2875  Hirvonen, Mrs. Alexander (Helga E Lindqvist)   \n",
      "\n",
      "   Parch  PassengerId  Pclass     Sex  SibSp   Ticket  \n",
      "0      0          892       3    male      0   330911  \n",
      "1      0          893       3  female      1   363272  \n",
      "2      0          894       2    male      0   240276  \n",
      "3      0          895       3    male      0   315154  \n",
      "4      1          896       3  female      1  3101298  \n",
      "Transforming...\n",
      "Notes: v2-default pipeline\n"
     ]
    },
    {
     "name": "stderr",
     "output_type": "stream",
     "text": [
      "INFO:werkzeug:127.0.0.1 - - [12/Sep/2018 16:50:58] \"POST /predict/pipeline_demo_best_v2/ HTTP/1.1\" 200 -\n"
     ]
    }
   ],
   "source": [
    "if __name__ == '__main__':\n",
    "    from werkzeug.serving import run_simple\n",
    "    run_simple('localhost', 9001, app)"
   ]
  }
 ],
 "metadata": {
  "hide_input": false,
  "kernelspec": {
   "display_name": "Python 3",
   "language": "python",
   "name": "python3"
  },
  "language_info": {
   "codemirror_mode": {
    "name": "ipython",
    "version": 3
   },
   "file_extension": ".py",
   "mimetype": "text/x-python",
   "name": "python",
   "nbconvert_exporter": "python",
   "pygments_lexer": "ipython3",
   "version": "3.6.3"
  },
  "toc": {
   "base_numbering": 1,
   "nav_menu": {},
   "number_sections": true,
   "sideBar": true,
   "skip_h1_title": false,
   "title_cell": "Table of Contents",
   "title_sidebar": "Contents",
   "toc_cell": false,
   "toc_position": {},
   "toc_section_display": true,
   "toc_window_display": false
  },
  "varInspector": {
   "cols": {
    "lenName": 16,
    "lenType": 16,
    "lenVar": 40
   },
   "kernels_config": {
    "python": {
     "delete_cmd_postfix": "",
     "delete_cmd_prefix": "del ",
     "library": "var_list.py",
     "varRefreshCmd": "print(var_dic_list())"
    },
    "r": {
     "delete_cmd_postfix": ") ",
     "delete_cmd_prefix": "rm(",
     "library": "var_list.r",
     "varRefreshCmd": "cat(var_dic_list()) "
    }
   },
   "types_to_exclude": [
    "module",
    "function",
    "builtin_function_or_method",
    "instance",
    "_Feature"
   ],
   "window_display": false
  }
 },
 "nbformat": 4,
 "nbformat_minor": 2
}
